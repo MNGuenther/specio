{
 "cells": [
  {
   "cell_type": "markdown",
   "metadata": {},
   "source": [
    "# SPECIO"
   ]
  },
  {
   "cell_type": "code",
   "execution_count": 7,
   "metadata": {
    "collapsed": false
   },
   "outputs": [],
   "source": [
    "%matplotlib notebook\n",
    "#%matplotlib inline\n",
    "\n",
    "#import mpld3\n",
    "#mpld3.enable_notebook()\n",
    "from IPython.display import HTML, display, clear_output\n",
    "import ipywidgets as widgets\n",
    "import specio\n",
    "import os\n",
    "from glob import glob"
   ]
  },
  {
   "cell_type": "code",
   "execution_count": 8,
   "metadata": {
    "collapsed": false
   },
   "outputs": [
    {
     "data": {
      "text/html": [
       "<script>\n",
       "code_show=true; \n",
       "function code_toggle() {\n",
       " if (code_show){\n",
       " $('div.input').hide();\n",
       " } else {\n",
       " $('div.input').show();\n",
       " }\n",
       " code_show = !code_show\n",
       "} \n",
       "$( document ).ready(code_toggle);\n",
       "</script>\n",
       "Toggle code <a href=\"javascript:code_toggle()\">on/off</a>."
      ],
      "text/plain": [
       "<IPython.core.display.HTML object>"
      ]
     },
     "execution_count": 8,
     "metadata": {},
     "output_type": "execute_result"
    }
   ],
   "source": [
    "HTML('''<script>\n",
    "code_show=true; \n",
    "function code_toggle() {\n",
    " if (code_show){\n",
    " $('div.input').hide();\n",
    " } else {\n",
    " $('div.input').show();\n",
    " }\n",
    " code_show = !code_show\n",
    "} \n",
    "$( document ).ready(code_toggle);\n",
    "</script>\n",
    "Toggle code <a href=\"javascript:code_toggle()\">on/off</a>.''')"
   ]
  },
  {
   "cell_type": "code",
   "execution_count": 11,
   "metadata": {
    "collapsed": false
   },
   "outputs": [
    {
     "name": "stdout",
     "output_type": "stream",
     "text": [
      "Callisto Sp0544-2433 I+z SP000000 all \n",
      "\n"
     ]
    },
    {
     "data": {
      "application/javascript": [
       "/* Put everything inside the global mpl namespace */\n",
       "window.mpl = {};\n",
       "\n",
       "\n",
       "mpl.get_websocket_type = function() {\n",
       "    if (typeof(WebSocket) !== 'undefined') {\n",
       "        return WebSocket;\n",
       "    } else if (typeof(MozWebSocket) !== 'undefined') {\n",
       "        return MozWebSocket;\n",
       "    } else {\n",
       "        alert('Your browser does not have WebSocket support.' +\n",
       "              'Please try Chrome, Safari or Firefox ≥ 6. ' +\n",
       "              'Firefox 4 and 5 are also supported but you ' +\n",
       "              'have to enable WebSockets in about:config.');\n",
       "    };\n",
       "}\n",
       "\n",
       "mpl.figure = function(figure_id, websocket, ondownload, parent_element) {\n",
       "    this.id = figure_id;\n",
       "\n",
       "    this.ws = websocket;\n",
       "\n",
       "    this.supports_binary = (this.ws.binaryType != undefined);\n",
       "\n",
       "    if (!this.supports_binary) {\n",
       "        var warnings = document.getElementById(\"mpl-warnings\");\n",
       "        if (warnings) {\n",
       "            warnings.style.display = 'block';\n",
       "            warnings.textContent = (\n",
       "                \"This browser does not support binary websocket messages. \" +\n",
       "                    \"Performance may be slow.\");\n",
       "        }\n",
       "    }\n",
       "\n",
       "    this.imageObj = new Image();\n",
       "\n",
       "    this.context = undefined;\n",
       "    this.message = undefined;\n",
       "    this.canvas = undefined;\n",
       "    this.rubberband_canvas = undefined;\n",
       "    this.rubberband_context = undefined;\n",
       "    this.format_dropdown = undefined;\n",
       "\n",
       "    this.image_mode = 'full';\n",
       "\n",
       "    this.root = $('<div/>');\n",
       "    this._root_extra_style(this.root)\n",
       "    this.root.attr('style', 'display: inline-block');\n",
       "\n",
       "    $(parent_element).append(this.root);\n",
       "\n",
       "    this._init_header(this);\n",
       "    this._init_canvas(this);\n",
       "    this._init_toolbar(this);\n",
       "\n",
       "    var fig = this;\n",
       "\n",
       "    this.waiting = false;\n",
       "\n",
       "    this.ws.onopen =  function () {\n",
       "            fig.send_message(\"supports_binary\", {value: fig.supports_binary});\n",
       "            fig.send_message(\"send_image_mode\", {});\n",
       "            if (mpl.ratio != 1) {\n",
       "                fig.send_message(\"set_dpi_ratio\", {'dpi_ratio': mpl.ratio});\n",
       "            }\n",
       "            fig.send_message(\"refresh\", {});\n",
       "        }\n",
       "\n",
       "    this.imageObj.onload = function() {\n",
       "            if (fig.image_mode == 'full') {\n",
       "                // Full images could contain transparency (where diff images\n",
       "                // almost always do), so we need to clear the canvas so that\n",
       "                // there is no ghosting.\n",
       "                fig.context.clearRect(0, 0, fig.canvas.width, fig.canvas.height);\n",
       "            }\n",
       "            fig.context.drawImage(fig.imageObj, 0, 0);\n",
       "        };\n",
       "\n",
       "    this.imageObj.onunload = function() {\n",
       "        this.ws.close();\n",
       "    }\n",
       "\n",
       "    this.ws.onmessage = this._make_on_message_function(this);\n",
       "\n",
       "    this.ondownload = ondownload;\n",
       "}\n",
       "\n",
       "mpl.figure.prototype._init_header = function() {\n",
       "    var titlebar = $(\n",
       "        '<div class=\"ui-dialog-titlebar ui-widget-header ui-corner-all ' +\n",
       "        'ui-helper-clearfix\"/>');\n",
       "    var titletext = $(\n",
       "        '<div class=\"ui-dialog-title\" style=\"width: 100%; ' +\n",
       "        'text-align: center; padding: 3px;\"/>');\n",
       "    titlebar.append(titletext)\n",
       "    this.root.append(titlebar);\n",
       "    this.header = titletext[0];\n",
       "}\n",
       "\n",
       "\n",
       "\n",
       "mpl.figure.prototype._canvas_extra_style = function(canvas_div) {\n",
       "\n",
       "}\n",
       "\n",
       "\n",
       "mpl.figure.prototype._root_extra_style = function(canvas_div) {\n",
       "\n",
       "}\n",
       "\n",
       "mpl.figure.prototype._init_canvas = function() {\n",
       "    var fig = this;\n",
       "\n",
       "    var canvas_div = $('<div/>');\n",
       "\n",
       "    canvas_div.attr('style', 'position: relative; clear: both; outline: 0');\n",
       "\n",
       "    function canvas_keyboard_event(event) {\n",
       "        return fig.key_event(event, event['data']);\n",
       "    }\n",
       "\n",
       "    canvas_div.keydown('key_press', canvas_keyboard_event);\n",
       "    canvas_div.keyup('key_release', canvas_keyboard_event);\n",
       "    this.canvas_div = canvas_div\n",
       "    this._canvas_extra_style(canvas_div)\n",
       "    this.root.append(canvas_div);\n",
       "\n",
       "    var canvas = $('<canvas/>');\n",
       "    canvas.addClass('mpl-canvas');\n",
       "    canvas.attr('style', \"left: 0; top: 0; z-index: 0; outline: 0\")\n",
       "\n",
       "    this.canvas = canvas[0];\n",
       "    this.context = canvas[0].getContext(\"2d\");\n",
       "\n",
       "    var backingStore = this.context.backingStorePixelRatio ||\n",
       "\tthis.context.webkitBackingStorePixelRatio ||\n",
       "\tthis.context.mozBackingStorePixelRatio ||\n",
       "\tthis.context.msBackingStorePixelRatio ||\n",
       "\tthis.context.oBackingStorePixelRatio ||\n",
       "\tthis.context.backingStorePixelRatio || 1;\n",
       "\n",
       "    mpl.ratio = (window.devicePixelRatio || 1) / backingStore;\n",
       "\n",
       "    var rubberband = $('<canvas/>');\n",
       "    rubberband.attr('style', \"position: absolute; left: 0; top: 0; z-index: 1;\")\n",
       "\n",
       "    var pass_mouse_events = true;\n",
       "\n",
       "    canvas_div.resizable({\n",
       "        start: function(event, ui) {\n",
       "            pass_mouse_events = false;\n",
       "        },\n",
       "        resize: function(event, ui) {\n",
       "            fig.request_resize(ui.size.width, ui.size.height);\n",
       "        },\n",
       "        stop: function(event, ui) {\n",
       "            pass_mouse_events = true;\n",
       "            fig.request_resize(ui.size.width, ui.size.height);\n",
       "        },\n",
       "    });\n",
       "\n",
       "    function mouse_event_fn(event) {\n",
       "        if (pass_mouse_events)\n",
       "            return fig.mouse_event(event, event['data']);\n",
       "    }\n",
       "\n",
       "    rubberband.mousedown('button_press', mouse_event_fn);\n",
       "    rubberband.mouseup('button_release', mouse_event_fn);\n",
       "    // Throttle sequential mouse events to 1 every 20ms.\n",
       "    rubberband.mousemove('motion_notify', mouse_event_fn);\n",
       "\n",
       "    rubberband.mouseenter('figure_enter', mouse_event_fn);\n",
       "    rubberband.mouseleave('figure_leave', mouse_event_fn);\n",
       "\n",
       "    canvas_div.on(\"wheel\", function (event) {\n",
       "        event = event.originalEvent;\n",
       "        event['data'] = 'scroll'\n",
       "        if (event.deltaY < 0) {\n",
       "            event.step = 1;\n",
       "        } else {\n",
       "            event.step = -1;\n",
       "        }\n",
       "        mouse_event_fn(event);\n",
       "    });\n",
       "\n",
       "    canvas_div.append(canvas);\n",
       "    canvas_div.append(rubberband);\n",
       "\n",
       "    this.rubberband = rubberband;\n",
       "    this.rubberband_canvas = rubberband[0];\n",
       "    this.rubberband_context = rubberband[0].getContext(\"2d\");\n",
       "    this.rubberband_context.strokeStyle = \"#000000\";\n",
       "\n",
       "    this._resize_canvas = function(width, height) {\n",
       "        // Keep the size of the canvas, canvas container, and rubber band\n",
       "        // canvas in synch.\n",
       "        canvas_div.css('width', width)\n",
       "        canvas_div.css('height', height)\n",
       "\n",
       "        canvas.attr('width', width * mpl.ratio);\n",
       "        canvas.attr('height', height * mpl.ratio);\n",
       "        canvas.attr('style', 'width: ' + width + 'px; height: ' + height + 'px;');\n",
       "\n",
       "        rubberband.attr('width', width);\n",
       "        rubberband.attr('height', height);\n",
       "    }\n",
       "\n",
       "    // Set the figure to an initial 600x600px, this will subsequently be updated\n",
       "    // upon first draw.\n",
       "    this._resize_canvas(600, 600);\n",
       "\n",
       "    // Disable right mouse context menu.\n",
       "    $(this.rubberband_canvas).bind(\"contextmenu\",function(e){\n",
       "        return false;\n",
       "    });\n",
       "\n",
       "    function set_focus () {\n",
       "        canvas.focus();\n",
       "        canvas_div.focus();\n",
       "    }\n",
       "\n",
       "    window.setTimeout(set_focus, 100);\n",
       "}\n",
       "\n",
       "mpl.figure.prototype._init_toolbar = function() {\n",
       "    var fig = this;\n",
       "\n",
       "    var nav_element = $('<div/>')\n",
       "    nav_element.attr('style', 'width: 100%');\n",
       "    this.root.append(nav_element);\n",
       "\n",
       "    // Define a callback function for later on.\n",
       "    function toolbar_event(event) {\n",
       "        return fig.toolbar_button_onclick(event['data']);\n",
       "    }\n",
       "    function toolbar_mouse_event(event) {\n",
       "        return fig.toolbar_button_onmouseover(event['data']);\n",
       "    }\n",
       "\n",
       "    for(var toolbar_ind in mpl.toolbar_items) {\n",
       "        var name = mpl.toolbar_items[toolbar_ind][0];\n",
       "        var tooltip = mpl.toolbar_items[toolbar_ind][1];\n",
       "        var image = mpl.toolbar_items[toolbar_ind][2];\n",
       "        var method_name = mpl.toolbar_items[toolbar_ind][3];\n",
       "\n",
       "        if (!name) {\n",
       "            // put a spacer in here.\n",
       "            continue;\n",
       "        }\n",
       "        var button = $('<button/>');\n",
       "        button.addClass('ui-button ui-widget ui-state-default ui-corner-all ' +\n",
       "                        'ui-button-icon-only');\n",
       "        button.attr('role', 'button');\n",
       "        button.attr('aria-disabled', 'false');\n",
       "        button.click(method_name, toolbar_event);\n",
       "        button.mouseover(tooltip, toolbar_mouse_event);\n",
       "\n",
       "        var icon_img = $('<span/>');\n",
       "        icon_img.addClass('ui-button-icon-primary ui-icon');\n",
       "        icon_img.addClass(image);\n",
       "        icon_img.addClass('ui-corner-all');\n",
       "\n",
       "        var tooltip_span = $('<span/>');\n",
       "        tooltip_span.addClass('ui-button-text');\n",
       "        tooltip_span.html(tooltip);\n",
       "\n",
       "        button.append(icon_img);\n",
       "        button.append(tooltip_span);\n",
       "\n",
       "        nav_element.append(button);\n",
       "    }\n",
       "\n",
       "    var fmt_picker_span = $('<span/>');\n",
       "\n",
       "    var fmt_picker = $('<select/>');\n",
       "    fmt_picker.addClass('mpl-toolbar-option ui-widget ui-widget-content');\n",
       "    fmt_picker_span.append(fmt_picker);\n",
       "    nav_element.append(fmt_picker_span);\n",
       "    this.format_dropdown = fmt_picker[0];\n",
       "\n",
       "    for (var ind in mpl.extensions) {\n",
       "        var fmt = mpl.extensions[ind];\n",
       "        var option = $(\n",
       "            '<option/>', {selected: fmt === mpl.default_extension}).html(fmt);\n",
       "        fmt_picker.append(option)\n",
       "    }\n",
       "\n",
       "    // Add hover states to the ui-buttons\n",
       "    $( \".ui-button\" ).hover(\n",
       "        function() { $(this).addClass(\"ui-state-hover\");},\n",
       "        function() { $(this).removeClass(\"ui-state-hover\");}\n",
       "    );\n",
       "\n",
       "    var status_bar = $('<span class=\"mpl-message\"/>');\n",
       "    nav_element.append(status_bar);\n",
       "    this.message = status_bar[0];\n",
       "}\n",
       "\n",
       "mpl.figure.prototype.request_resize = function(x_pixels, y_pixels) {\n",
       "    // Request matplotlib to resize the figure. Matplotlib will then trigger a resize in the client,\n",
       "    // which will in turn request a refresh of the image.\n",
       "    this.send_message('resize', {'width': x_pixels, 'height': y_pixels});\n",
       "}\n",
       "\n",
       "mpl.figure.prototype.send_message = function(type, properties) {\n",
       "    properties['type'] = type;\n",
       "    properties['figure_id'] = this.id;\n",
       "    this.ws.send(JSON.stringify(properties));\n",
       "}\n",
       "\n",
       "mpl.figure.prototype.send_draw_message = function() {\n",
       "    if (!this.waiting) {\n",
       "        this.waiting = true;\n",
       "        this.ws.send(JSON.stringify({type: \"draw\", figure_id: this.id}));\n",
       "    }\n",
       "}\n",
       "\n",
       "\n",
       "mpl.figure.prototype.handle_save = function(fig, msg) {\n",
       "    var format_dropdown = fig.format_dropdown;\n",
       "    var format = format_dropdown.options[format_dropdown.selectedIndex].value;\n",
       "    fig.ondownload(fig, format);\n",
       "}\n",
       "\n",
       "\n",
       "mpl.figure.prototype.handle_resize = function(fig, msg) {\n",
       "    var size = msg['size'];\n",
       "    if (size[0] != fig.canvas.width || size[1] != fig.canvas.height) {\n",
       "        fig._resize_canvas(size[0], size[1]);\n",
       "        fig.send_message(\"refresh\", {});\n",
       "    };\n",
       "}\n",
       "\n",
       "mpl.figure.prototype.handle_rubberband = function(fig, msg) {\n",
       "    var x0 = msg['x0'] / mpl.ratio;\n",
       "    var y0 = (fig.canvas.height - msg['y0']) / mpl.ratio;\n",
       "    var x1 = msg['x1'] / mpl.ratio;\n",
       "    var y1 = (fig.canvas.height - msg['y1']) / mpl.ratio;\n",
       "    x0 = Math.floor(x0) + 0.5;\n",
       "    y0 = Math.floor(y0) + 0.5;\n",
       "    x1 = Math.floor(x1) + 0.5;\n",
       "    y1 = Math.floor(y1) + 0.5;\n",
       "    var min_x = Math.min(x0, x1);\n",
       "    var min_y = Math.min(y0, y1);\n",
       "    var width = Math.abs(x1 - x0);\n",
       "    var height = Math.abs(y1 - y0);\n",
       "\n",
       "    fig.rubberband_context.clearRect(\n",
       "        0, 0, fig.canvas.width, fig.canvas.height);\n",
       "\n",
       "    fig.rubberband_context.strokeRect(min_x, min_y, width, height);\n",
       "}\n",
       "\n",
       "mpl.figure.prototype.handle_figure_label = function(fig, msg) {\n",
       "    // Updates the figure title.\n",
       "    fig.header.textContent = msg['label'];\n",
       "}\n",
       "\n",
       "mpl.figure.prototype.handle_cursor = function(fig, msg) {\n",
       "    var cursor = msg['cursor'];\n",
       "    switch(cursor)\n",
       "    {\n",
       "    case 0:\n",
       "        cursor = 'pointer';\n",
       "        break;\n",
       "    case 1:\n",
       "        cursor = 'default';\n",
       "        break;\n",
       "    case 2:\n",
       "        cursor = 'crosshair';\n",
       "        break;\n",
       "    case 3:\n",
       "        cursor = 'move';\n",
       "        break;\n",
       "    }\n",
       "    fig.rubberband_canvas.style.cursor = cursor;\n",
       "}\n",
       "\n",
       "mpl.figure.prototype.handle_message = function(fig, msg) {\n",
       "    fig.message.textContent = msg['message'];\n",
       "}\n",
       "\n",
       "mpl.figure.prototype.handle_draw = function(fig, msg) {\n",
       "    // Request the server to send over a new figure.\n",
       "    fig.send_draw_message();\n",
       "}\n",
       "\n",
       "mpl.figure.prototype.handle_image_mode = function(fig, msg) {\n",
       "    fig.image_mode = msg['mode'];\n",
       "}\n",
       "\n",
       "mpl.figure.prototype.updated_canvas_event = function() {\n",
       "    // Called whenever the canvas gets updated.\n",
       "    this.send_message(\"ack\", {});\n",
       "}\n",
       "\n",
       "// A function to construct a web socket function for onmessage handling.\n",
       "// Called in the figure constructor.\n",
       "mpl.figure.prototype._make_on_message_function = function(fig) {\n",
       "    return function socket_on_message(evt) {\n",
       "        if (evt.data instanceof Blob) {\n",
       "            /* FIXME: We get \"Resource interpreted as Image but\n",
       "             * transferred with MIME type text/plain:\" errors on\n",
       "             * Chrome.  But how to set the MIME type?  It doesn't seem\n",
       "             * to be part of the websocket stream */\n",
       "            evt.data.type = \"image/png\";\n",
       "\n",
       "            /* Free the memory for the previous frames */\n",
       "            if (fig.imageObj.src) {\n",
       "                (window.URL || window.webkitURL).revokeObjectURL(\n",
       "                    fig.imageObj.src);\n",
       "            }\n",
       "\n",
       "            fig.imageObj.src = (window.URL || window.webkitURL).createObjectURL(\n",
       "                evt.data);\n",
       "            fig.updated_canvas_event();\n",
       "            fig.waiting = false;\n",
       "            return;\n",
       "        }\n",
       "        else if (typeof evt.data === 'string' && evt.data.slice(0, 21) == \"data:image/png;base64\") {\n",
       "            fig.imageObj.src = evt.data;\n",
       "            fig.updated_canvas_event();\n",
       "            fig.waiting = false;\n",
       "            return;\n",
       "        }\n",
       "\n",
       "        var msg = JSON.parse(evt.data);\n",
       "        var msg_type = msg['type'];\n",
       "\n",
       "        // Call the  \"handle_{type}\" callback, which takes\n",
       "        // the figure and JSON message as its only arguments.\n",
       "        try {\n",
       "            var callback = fig[\"handle_\" + msg_type];\n",
       "        } catch (e) {\n",
       "            console.log(\"No handler for the '\" + msg_type + \"' message type: \", msg);\n",
       "            return;\n",
       "        }\n",
       "\n",
       "        if (callback) {\n",
       "            try {\n",
       "                // console.log(\"Handling '\" + msg_type + \"' message: \", msg);\n",
       "                callback(fig, msg);\n",
       "            } catch (e) {\n",
       "                console.log(\"Exception inside the 'handler_\" + msg_type + \"' callback:\", e, e.stack, msg);\n",
       "            }\n",
       "        }\n",
       "    };\n",
       "}\n",
       "\n",
       "// from http://stackoverflow.com/questions/1114465/getting-mouse-location-in-canvas\n",
       "mpl.findpos = function(e) {\n",
       "    //this section is from http://www.quirksmode.org/js/events_properties.html\n",
       "    var targ;\n",
       "    if (!e)\n",
       "        e = window.event;\n",
       "    if (e.target)\n",
       "        targ = e.target;\n",
       "    else if (e.srcElement)\n",
       "        targ = e.srcElement;\n",
       "    if (targ.nodeType == 3) // defeat Safari bug\n",
       "        targ = targ.parentNode;\n",
       "\n",
       "    // jQuery normalizes the pageX and pageY\n",
       "    // pageX,Y are the mouse positions relative to the document\n",
       "    // offset() returns the position of the element relative to the document\n",
       "    var x = e.pageX - $(targ).offset().left;\n",
       "    var y = e.pageY - $(targ).offset().top;\n",
       "\n",
       "    return {\"x\": x, \"y\": y};\n",
       "};\n",
       "\n",
       "/*\n",
       " * return a copy of an object with only non-object keys\n",
       " * we need this to avoid circular references\n",
       " * http://stackoverflow.com/a/24161582/3208463\n",
       " */\n",
       "function simpleKeys (original) {\n",
       "  return Object.keys(original).reduce(function (obj, key) {\n",
       "    if (typeof original[key] !== 'object')\n",
       "        obj[key] = original[key]\n",
       "    return obj;\n",
       "  }, {});\n",
       "}\n",
       "\n",
       "mpl.figure.prototype.mouse_event = function(event, name) {\n",
       "    var canvas_pos = mpl.findpos(event)\n",
       "\n",
       "    if (name === 'button_press')\n",
       "    {\n",
       "        this.canvas.focus();\n",
       "        this.canvas_div.focus();\n",
       "    }\n",
       "\n",
       "    var x = canvas_pos.x * mpl.ratio;\n",
       "    var y = canvas_pos.y * mpl.ratio;\n",
       "\n",
       "    this.send_message(name, {x: x, y: y, button: event.button,\n",
       "                             step: event.step,\n",
       "                             guiEvent: simpleKeys(event)});\n",
       "\n",
       "    /* This prevents the web browser from automatically changing to\n",
       "     * the text insertion cursor when the button is pressed.  We want\n",
       "     * to control all of the cursor setting manually through the\n",
       "     * 'cursor' event from matplotlib */\n",
       "    event.preventDefault();\n",
       "    return false;\n",
       "}\n",
       "\n",
       "mpl.figure.prototype._key_event_extra = function(event, name) {\n",
       "    // Handle any extra behaviour associated with a key event\n",
       "}\n",
       "\n",
       "mpl.figure.prototype.key_event = function(event, name) {\n",
       "\n",
       "    // Prevent repeat events\n",
       "    if (name == 'key_press')\n",
       "    {\n",
       "        if (event.which === this._key)\n",
       "            return;\n",
       "        else\n",
       "            this._key = event.which;\n",
       "    }\n",
       "    if (name == 'key_release')\n",
       "        this._key = null;\n",
       "\n",
       "    var value = '';\n",
       "    if (event.ctrlKey && event.which != 17)\n",
       "        value += \"ctrl+\";\n",
       "    if (event.altKey && event.which != 18)\n",
       "        value += \"alt+\";\n",
       "    if (event.shiftKey && event.which != 16)\n",
       "        value += \"shift+\";\n",
       "\n",
       "    value += 'k';\n",
       "    value += event.which.toString();\n",
       "\n",
       "    this._key_event_extra(event, name);\n",
       "\n",
       "    this.send_message(name, {key: value,\n",
       "                             guiEvent: simpleKeys(event)});\n",
       "    return false;\n",
       "}\n",
       "\n",
       "mpl.figure.prototype.toolbar_button_onclick = function(name) {\n",
       "    if (name == 'download') {\n",
       "        this.handle_save(this, null);\n",
       "    } else {\n",
       "        this.send_message(\"toolbar_button\", {name: name});\n",
       "    }\n",
       "};\n",
       "\n",
       "mpl.figure.prototype.toolbar_button_onmouseover = function(tooltip) {\n",
       "    this.message.textContent = tooltip;\n",
       "};\n",
       "mpl.toolbar_items = [[\"Home\", \"Reset original view\", \"fa fa-home icon-home\", \"home\"], [\"Back\", \"Back to  previous view\", \"fa fa-arrow-left icon-arrow-left\", \"back\"], [\"Forward\", \"Forward to next view\", \"fa fa-arrow-right icon-arrow-right\", \"forward\"], [\"\", \"\", \"\", \"\"], [\"Pan\", \"Pan axes with left mouse, zoom with right\", \"fa fa-arrows icon-move\", \"pan\"], [\"Zoom\", \"Zoom to rectangle\", \"fa fa-square-o icon-check-empty\", \"zoom\"], [\"\", \"\", \"\", \"\"], [\"Download\", \"Download plot\", \"fa fa-floppy-o icon-save\", \"download\"]];\n",
       "\n",
       "mpl.extensions = [\"eps\", \"jpeg\", \"pdf\", \"png\", \"ps\", \"raw\", \"svg\", \"tif\"];\n",
       "\n",
       "mpl.default_extension = \"png\";var comm_websocket_adapter = function(comm) {\n",
       "    // Create a \"websocket\"-like object which calls the given IPython comm\n",
       "    // object with the appropriate methods. Currently this is a non binary\n",
       "    // socket, so there is still some room for performance tuning.\n",
       "    var ws = {};\n",
       "\n",
       "    ws.close = function() {\n",
       "        comm.close()\n",
       "    };\n",
       "    ws.send = function(m) {\n",
       "        //console.log('sending', m);\n",
       "        comm.send(m);\n",
       "    };\n",
       "    // Register the callback with on_msg.\n",
       "    comm.on_msg(function(msg) {\n",
       "        //console.log('receiving', msg['content']['data'], msg);\n",
       "        // Pass the mpl event to the overriden (by mpl) onmessage function.\n",
       "        ws.onmessage(msg['content']['data'])\n",
       "    });\n",
       "    return ws;\n",
       "}\n",
       "\n",
       "mpl.mpl_figure_comm = function(comm, msg) {\n",
       "    // This is the function which gets called when the mpl process\n",
       "    // starts-up an IPython Comm through the \"matplotlib\" channel.\n",
       "\n",
       "    var id = msg.content.data.id;\n",
       "    // Get hold of the div created by the display call when the Comm\n",
       "    // socket was opened in Python.\n",
       "    var element = $(\"#\" + id);\n",
       "    var ws_proxy = comm_websocket_adapter(comm)\n",
       "\n",
       "    function ondownload(figure, format) {\n",
       "        window.open(figure.imageObj.src);\n",
       "    }\n",
       "\n",
       "    var fig = new mpl.figure(id, ws_proxy,\n",
       "                           ondownload,\n",
       "                           element.get(0));\n",
       "\n",
       "    // Call onopen now - mpl needs it, as it is assuming we've passed it a real\n",
       "    // web socket which is closed, not our websocket->open comm proxy.\n",
       "    ws_proxy.onopen();\n",
       "\n",
       "    fig.parent_element = element.get(0);\n",
       "    fig.cell_info = mpl.find_output_cell(\"<div id='\" + id + \"'></div>\");\n",
       "    if (!fig.cell_info) {\n",
       "        console.error(\"Failed to find cell for figure\", id, fig);\n",
       "        return;\n",
       "    }\n",
       "\n",
       "    var output_index = fig.cell_info[2]\n",
       "    var cell = fig.cell_info[0];\n",
       "\n",
       "};\n",
       "\n",
       "mpl.figure.prototype.handle_close = function(fig, msg) {\n",
       "    var width = fig.canvas.width/mpl.ratio\n",
       "    fig.root.unbind('remove')\n",
       "\n",
       "    // Update the output cell to use the data from the current canvas.\n",
       "    fig.push_to_output();\n",
       "    var dataURL = fig.canvas.toDataURL();\n",
       "    // Re-enable the keyboard manager in IPython - without this line, in FF,\n",
       "    // the notebook keyboard shortcuts fail.\n",
       "    IPython.keyboard_manager.enable()\n",
       "    $(fig.parent_element).html('<img src=\"' + dataURL + '\" width=\"' + width + '\">');\n",
       "    fig.close_ws(fig, msg);\n",
       "}\n",
       "\n",
       "mpl.figure.prototype.close_ws = function(fig, msg){\n",
       "    fig.send_message('closing', msg);\n",
       "    // fig.ws.close()\n",
       "}\n",
       "\n",
       "mpl.figure.prototype.push_to_output = function(remove_interactive) {\n",
       "    // Turn the data on the canvas into data in the output cell.\n",
       "    var width = this.canvas.width/mpl.ratio\n",
       "    var dataURL = this.canvas.toDataURL();\n",
       "    this.cell_info[1]['text/html'] = '<img src=\"' + dataURL + '\" width=\"' + width + '\">';\n",
       "}\n",
       "\n",
       "mpl.figure.prototype.updated_canvas_event = function() {\n",
       "    // Tell IPython that the notebook contents must change.\n",
       "    IPython.notebook.set_dirty(true);\n",
       "    this.send_message(\"ack\", {});\n",
       "    var fig = this;\n",
       "    // Wait a second, then push the new image to the DOM so\n",
       "    // that it is saved nicely (might be nice to debounce this).\n",
       "    setTimeout(function () { fig.push_to_output() }, 1000);\n",
       "}\n",
       "\n",
       "mpl.figure.prototype._init_toolbar = function() {\n",
       "    var fig = this;\n",
       "\n",
       "    var nav_element = $('<div/>')\n",
       "    nav_element.attr('style', 'width: 100%');\n",
       "    this.root.append(nav_element);\n",
       "\n",
       "    // Define a callback function for later on.\n",
       "    function toolbar_event(event) {\n",
       "        return fig.toolbar_button_onclick(event['data']);\n",
       "    }\n",
       "    function toolbar_mouse_event(event) {\n",
       "        return fig.toolbar_button_onmouseover(event['data']);\n",
       "    }\n",
       "\n",
       "    for(var toolbar_ind in mpl.toolbar_items){\n",
       "        var name = mpl.toolbar_items[toolbar_ind][0];\n",
       "        var tooltip = mpl.toolbar_items[toolbar_ind][1];\n",
       "        var image = mpl.toolbar_items[toolbar_ind][2];\n",
       "        var method_name = mpl.toolbar_items[toolbar_ind][3];\n",
       "\n",
       "        if (!name) { continue; };\n",
       "\n",
       "        var button = $('<button class=\"btn btn-default\" href=\"#\" title=\"' + name + '\"><i class=\"fa ' + image + ' fa-lg\"></i></button>');\n",
       "        button.click(method_name, toolbar_event);\n",
       "        button.mouseover(tooltip, toolbar_mouse_event);\n",
       "        nav_element.append(button);\n",
       "    }\n",
       "\n",
       "    // Add the status bar.\n",
       "    var status_bar = $('<span class=\"mpl-message\" style=\"text-align:right; float: right;\"/>');\n",
       "    nav_element.append(status_bar);\n",
       "    this.message = status_bar[0];\n",
       "\n",
       "    // Add the close button to the window.\n",
       "    var buttongrp = $('<div class=\"btn-group inline pull-right\"></div>');\n",
       "    var button = $('<button class=\"btn btn-mini btn-primary\" href=\"#\" title=\"Stop Interaction\"><i class=\"fa fa-power-off icon-remove icon-large\"></i></button>');\n",
       "    button.click(function (evt) { fig.handle_close(fig, {}); } );\n",
       "    button.mouseover('Stop Interaction', toolbar_mouse_event);\n",
       "    buttongrp.append(button);\n",
       "    var titlebar = this.root.find($('.ui-dialog-titlebar'));\n",
       "    titlebar.prepend(buttongrp);\n",
       "}\n",
       "\n",
       "mpl.figure.prototype._root_extra_style = function(el){\n",
       "    var fig = this\n",
       "    el.on(\"remove\", function(){\n",
       "\tfig.close_ws(fig, {});\n",
       "    });\n",
       "}\n",
       "\n",
       "mpl.figure.prototype._canvas_extra_style = function(el){\n",
       "    // this is important to make the div 'focusable\n",
       "    el.attr('tabindex', 0)\n",
       "    // reach out to IPython and tell the keyboard manager to turn it's self\n",
       "    // off when our div gets focus\n",
       "\n",
       "    // location in version 3\n",
       "    if (IPython.notebook.keyboard_manager) {\n",
       "        IPython.notebook.keyboard_manager.register_events(el);\n",
       "    }\n",
       "    else {\n",
       "        // location in version 2\n",
       "        IPython.keyboard_manager.register_events(el);\n",
       "    }\n",
       "\n",
       "}\n",
       "\n",
       "mpl.figure.prototype._key_event_extra = function(event, name) {\n",
       "    var manager = IPython.notebook.keyboard_manager;\n",
       "    if (!manager)\n",
       "        manager = IPython.keyboard_manager;\n",
       "\n",
       "    // Check for shift+enter\n",
       "    if (event.shiftKey && event.which == 13) {\n",
       "        this.canvas_div.blur();\n",
       "        // select the cell after this one\n",
       "        var index = IPython.notebook.find_cell_index(this.cell_info[0]);\n",
       "        IPython.notebook.select(index + 1);\n",
       "    }\n",
       "}\n",
       "\n",
       "mpl.figure.prototype.handle_save = function(fig, msg) {\n",
       "    fig.ondownload(fig, null);\n",
       "}\n",
       "\n",
       "\n",
       "mpl.find_output_cell = function(html_output) {\n",
       "    // Return the cell and output element which can be found *uniquely* in the notebook.\n",
       "    // Note - this is a bit hacky, but it is done because the \"notebook_saving.Notebook\"\n",
       "    // IPython event is triggered only after the cells have been serialised, which for\n",
       "    // our purposes (turning an active figure into a static one), is too late.\n",
       "    var cells = IPython.notebook.get_cells();\n",
       "    var ncells = cells.length;\n",
       "    for (var i=0; i<ncells; i++) {\n",
       "        var cell = cells[i];\n",
       "        if (cell.cell_type === 'code'){\n",
       "            for (var j=0; j<cell.output_area.outputs.length; j++) {\n",
       "                var data = cell.output_area.outputs[j];\n",
       "                if (data.data) {\n",
       "                    // IPython >= 3 moved mimebundle to data attribute of output\n",
       "                    data = data.data;\n",
       "                }\n",
       "                if (data['text/html'] == html_output) {\n",
       "                    return [cell, data, j];\n",
       "                }\n",
       "            }\n",
       "        }\n",
       "    }\n",
       "}\n",
       "\n",
       "// Register the function which deals with the matplotlib target/channel.\n",
       "// The kernel may be null if the page has been refreshed.\n",
       "if (IPython.notebook.kernel != null) {\n",
       "    IPython.notebook.kernel.comm_manager.register_target('matplotlib', mpl.mpl_figure_comm);\n",
       "}\n"
      ],
      "text/plain": [
       "<IPython.core.display.Javascript object>"
      ]
     },
     "metadata": {},
     "output_type": "display_data"
    },
    {
     "data": {
      "text/html": [
       "<img src=\"data:image/png;base64,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\" width=\"1000\">"
      ],
      "text/plain": [
       "<IPython.core.display.HTML object>"
      ]
     },
     "metadata": {},
     "output_type": "display_data"
    },
    {
     "name": "stdout",
     "output_type": "stream",
     "text": [
      "#NUM_NIGHTS_TOTAL \t NUM_IMAGES_TOTAL\n",
      "17 \t 4891\n",
      "\n",
      "#DATE \t NUM_IMAGES\n",
      "2018-02-03 \t 348\n",
      "2018-02-05 \t 322\n",
      "2018-02-11 \t 332\n",
      "2018-02-12 \t 329\n",
      "2018-02-21 \t 305\n",
      "2018-02-22 \t 307\n",
      "2018-02-23 \t 308\n",
      "2018-02-24 \t 306\n",
      "2018-02-25 \t 303\n",
      "2018-02-28 \t 289\n",
      "2018-03-02 \t 281\n",
      "2018-03-09 \t 262\n",
      "2018-03-14 \t 246\n",
      "2018-03-15 \t 246\n",
      "2018-03-16 \t 246\n",
      "2018-03-17 \t 241\n",
      "2018-03-18 \t 220\n"
     ]
    }
   ],
   "source": [
    "#::: telescope drowndown widget\n",
    "telescope_w = widgets.Dropdown(\n",
    "    options=['Io','Europa','Callisto','Ganymed'],\n",
    "    value='Callisto',\n",
    "    description='Telescope'\n",
    ")\n",
    "display(telescope_w)\n",
    "#telescope = telescope_w.value\n",
    "\n",
    "\n",
    "#::: read available fields and filters for this telescope\n",
    "def get_field_and_filter_w_options():\n",
    "    telescope = telescope_w.value\n",
    "    try:\n",
    "        buf = glob( os.path.join(specio.root(telescope), '*') )\n",
    "        fields_and_filters = [ item.split('/')[-1][0:-11] for item in buf ]\n",
    "        #field_and_filter_w.options = fields_and_filters\n",
    "        return fields_and_filters\n",
    "    except:\n",
    "        return ['No data available']\n",
    "\n",
    "\n",
    "#::: fields and filters dropdown widget\n",
    "field_and_filter_w = widgets.Dropdown(\n",
    "    options=get_field_and_filter_w_options(),\n",
    "    description='Fields and filters'\n",
    ")\n",
    "display(field_and_filter_w)\n",
    "field_name, filter_band = field_and_filter_w.value.split('_')\n",
    "\n",
    "\n",
    "#::: read available obj_ids for this telescope, field and filter\n",
    "def get_obj_id_w_options():\n",
    "    telescope = telescope_w.value\n",
    "    try:\n",
    "        field_name, filter_band = field_and_filter_w.value.split('_')\n",
    "        dic = specio.get(telescope, field_name, filter_band, ['OBJ_ID'], silent=True)\n",
    "        obj_ids = list(dic['OBJ_ID'])\n",
    "        return obj_ids\n",
    "    except:\n",
    "        return ['No data available']\n",
    "        \n",
    "\n",
    "#::: OBJ_IDs dropdown widget\n",
    "obj_id_w = widgets.Dropdown(\n",
    "    options=get_obj_id_w_options(),\n",
    "    description='Object ID'\n",
    ")\n",
    "display(obj_id_w)\n",
    "obj_id = obj_id_w.value\n",
    "\n",
    "\n",
    "#::: read available obj_ids for this telescope, field and filter\n",
    "def get_date_w_options():\n",
    "    try:\n",
    "        telescope = telescope_w.value\n",
    "        field_name, filter_band = field_and_filter_w.value.split('_')\n",
    "        obj_id = obj_id_w.value\n",
    "        dic = specio.get(telescope, field_name, filter_band, ['STATS'], silent=True)\n",
    "        #print dic\n",
    "        dates = ['all'] + list(dic['STATS'][0])\n",
    "        return dates\n",
    "    except:\n",
    "        return ['No data available']\n",
    "        \n",
    "\n",
    "#::: OBJ_IDs dropdown widget\n",
    "date_w = widgets.Dropdown(\n",
    "    options=get_date_w_options(),\n",
    "    description='Date'\n",
    ")\n",
    "display(date_w)\n",
    "date = date_w.value\n",
    "\n",
    "\n",
    "#::: selection changes, update dropdown menus\n",
    "def update_dropdown_menus(b):\n",
    "    field_and_filter_w.options = get_field_and_filter_w_options()\n",
    "    obj_id_w.options = get_obj_id_w_options()\n",
    "    date_w.options = get_date_w_options()\n",
    "    \n",
    "    \n",
    "#::: selection changes, update dropdown menus\n",
    "telescope_w.observe(update_dropdown_menus)\n",
    "field_and_filter_w.observe(update_dropdown_menus)\n",
    "obj_id_w.observe(update_dropdown_menus)\n",
    "\n",
    "\n",
    "\n",
    "#::: run\n",
    "def run(b):\n",
    "    clear_output()\n",
    "    try:\n",
    "        telescope = telescope_w.value\n",
    "        field_name, filter_band = field_and_filter_w.value.split('_')\n",
    "        obj_id = obj_id_w.value\n",
    "        date = date_w.value\n",
    "        print telescope, field_name, filter_band, obj_id, date, '\\n'\n",
    "        if date=='all':\n",
    "            fig_overview, axes_overview = specio.plot_overview(telescope, field_name, filter_band, obj_id=obj_id)\n",
    "        else:   \n",
    "            fig_overview, axes_overview = specio.plot_overview(telescope, field_name, filter_band, obj_id=obj_id, time_date=date)\n",
    "        specio.print_stats(telescope, field_name, filter_band, sep='\\t')\n",
    "    except:\n",
    "        print(\"No data available\")\n",
    "    \n",
    "#::: run button\n",
    "button = widgets.Button(description=\"Query\")\n",
    "display(button)\n",
    "button.on_click(run)\n",
    "\n",
    "\n"
   ]
  },
  {
   "cell_type": "code",
   "execution_count": null,
   "metadata": {
    "collapsed": true
   },
   "outputs": [],
   "source": []
  }
 ],
 "metadata": {
  "kernelspec": {
   "display_name": "Python 2",
   "language": "python",
   "name": "python2"
  },
  "language_info": {
   "codemirror_mode": {
    "name": "ipython",
    "version": 2
   },
   "file_extension": ".py",
   "mimetype": "text/x-python",
   "name": "python",
   "nbconvert_exporter": "python",
   "pygments_lexer": "ipython2",
   "version": "2.7.13"
  },
  "widgets": {
   "state": {
    "023e9749ef3549848806dc54fdb09a3e": {
     "views": [
      {
       "cell_index": 2
      }
     ]
    },
    "0273c073257649b8b776d60617b6bc66": {
     "views": [
      {
       "cell_index": 2
      }
     ]
    },
    "02dd3168cf8541ef8e987f588c0c50f0": {
     "views": [
      {
       "cell_index": 2
      }
     ]
    },
    "0594a3f5a6b84741b632c2c571be56f6": {
     "views": [
      {
       "cell_index": 2
      }
     ]
    },
    "05abac08e87d4f14b075e5024892a1b3": {
     "views": [
      {
       "cell_index": 2
      }
     ]
    },
    "0a18e29573674d71a5208097bacec908": {
     "views": [
      {
       "cell_index": 2
      }
     ]
    },
    "11823db1f51e48189f6f07795ca7a42a": {
     "views": [
      {
       "cell_index": 2
      }
     ]
    },
    "158c0bdb349e46b2bc634146bf2670c7": {
     "views": [
      {
       "cell_index": 3
      }
     ]
    },
    "15bb1f46c23844c586e370fc954c4a57": {
     "views": [
      {
       "cell_index": 3
      }
     ]
    },
    "1604b8c0802042a79e3255e4974ccd83": {
     "views": [
      {
       "cell_index": 3
      }
     ]
    },
    "16be7439f44248778fb3d9367a51d760": {
     "views": [
      {
       "cell_index": 2
      }
     ]
    },
    "16f7e53b8a9443bebbd4c7402f6a1691": {
     "views": [
      {
       "cell_index": 2
      }
     ]
    },
    "22f05f1e1d424bfaab18793feaf73367": {
     "views": [
      {
       "cell_index": 3
      }
     ]
    },
    "25a9f681a04b48ff8317c658c390e97d": {
     "views": [
      {
       "cell_index": 2
      }
     ]
    },
    "2d0cab46e93a447895d6b4059815c05d": {
     "views": [
      {
       "cell_index": 2
      }
     ]
    },
    "2e4ab37c25114c9bbd93325d7227c8d3": {
     "views": [
      {
       "cell_index": 2
      }
     ]
    },
    "2e623f5482174ec5b97778489f6df7ff": {
     "views": [
      {
       "cell_index": 2
      }
     ]
    },
    "2e8286b245354b6e95db9604e8c21dc7": {
     "views": [
      {
       "cell_index": 3
      }
     ]
    },
    "32f330b5aa974137a8ea0a7f79d6ad74": {
     "views": [
      {
       "cell_index": 2
      }
     ]
    },
    "33dcbdd7c154422d8a265d1d72e43bfe": {
     "views": [
      {
       "cell_index": 2
      }
     ]
    },
    "389c8e81faad44ebae5947aefe15156d": {
     "views": [
      {
       "cell_index": 2
      }
     ]
    },
    "3aa19b0bcb00430395589b0f60f0b7a8": {
     "views": [
      {
       "cell_index": 2
      }
     ]
    },
    "3c9707648dbf410f91e2e8b21d1ec527": {
     "views": [
      {
       "cell_index": 3
      }
     ]
    },
    "3fe9bba5d6db4e808b563dbed8c56097": {
     "views": [
      {
       "cell_index": 2
      }
     ]
    },
    "423c6cd1513c4be593b15588215d2321": {
     "views": [
      {
       "cell_index": 2
      }
     ]
    },
    "4687e13db6d641bcb6fa706e5e3eeb32": {
     "views": [
      {
       "cell_index": 2
      }
     ]
    },
    "48fc33d5a47147349a6eadc1e493c2ad": {
     "views": [
      {
       "cell_index": 2
      }
     ]
    },
    "4dc7d4067c584a7384e5b57815bd199c": {
     "views": [
      {
       "cell_index": 3
      }
     ]
    },
    "52125b76179e4935ada02a6d4b38be89": {
     "views": [
      {
       "cell_index": 2
      }
     ]
    },
    "54023acb0d4b4b04af3c3857df831770": {
     "views": [
      {
       "cell_index": 2
      }
     ]
    },
    "55825b3a2eaf412694148a808b3d1301": {
     "views": [
      {
       "cell_index": 2
      }
     ]
    },
    "5f9417f984f94baaa900c8eb8e8f2864": {
     "views": [
      {
       "cell_index": 2
      }
     ]
    },
    "607e906e2d48401cac96e915bb7c6b9c": {
     "views": [
      {
       "cell_index": 2
      }
     ]
    },
    "6633854db5f840e9afd34d177185001f": {
     "views": [
      {
       "cell_index": 2
      }
     ]
    },
    "6a30dc2c46884d6c8cb04b788e601606": {
     "views": [
      {
       "cell_index": 2
      }
     ]
    },
    "6e94248bb6644c12bc24292db4f2f07f": {
     "views": [
      {
       "cell_index": 2
      }
     ]
    },
    "7ec11747cc9e4c4b8f52568d8668a51f": {
     "views": [
      {
       "cell_index": 2
      }
     ]
    },
    "7f1f802823574006abbe80925cdcd404": {
     "views": [
      {
       "cell_index": 2
      }
     ]
    },
    "852e59721450442ebb97430fd53a8469": {
     "views": [
      {
       "cell_index": 2
      }
     ]
    },
    "8a04169866474f1e97d416072ba45d03": {
     "views": [
      {
       "cell_index": 2
      }
     ]
    },
    "94407be4fcc54d17bf69a6aa8eb47029": {
     "views": [
      {
       "cell_index": 2
      }
     ]
    },
    "9655f81b714b4fdcbc3848c652a77c57": {
     "views": [
      {
       "cell_index": 2
      }
     ]
    },
    "973c070a2f3f4e27b977bf5632a4bdaf": {
     "views": [
      {
       "cell_index": 2
      }
     ]
    },
    "9ad71a62f53c4daa862c7ee812eb0d21": {
     "views": [
      {
       "cell_index": 2
      }
     ]
    },
    "9dd389c8b8194e569dc20dfa92640376": {
     "views": [
      {
       "cell_index": 2
      }
     ]
    },
    "9e97a3b8697c4423970f5b289e547a18": {
     "views": [
      {
       "cell_index": 2
      }
     ]
    },
    "a3e3e69cd47f421fb5ea5df92005e461": {
     "views": [
      {
       "cell_index": 2
      }
     ]
    },
    "a59299eaa1c541da8f3d30cdd9dfe38c": {
     "views": [
      {
       "cell_index": 3
      }
     ]
    },
    "a7689b5bcc3a4de99279b75ddfd42a59": {
     "views": [
      {
       "cell_index": 2
      }
     ]
    },
    "a98975c4e04c4a8381586dd34175642e": {
     "views": [
      {
       "cell_index": 2
      }
     ]
    },
    "ade1df89ebf641f0a020faae6058d9d5": {
     "views": [
      {
       "cell_index": 2
      }
     ]
    },
    "b94a8ec68a11438cbd4510b56c427f81": {
     "views": [
      {
       "cell_index": 2
      }
     ]
    },
    "bed3011de1f74192be8aea41410be0c2": {
     "views": [
      {
       "cell_index": 2
      }
     ]
    },
    "bfa7b258ff0d47e0b3c1b68781702fc9": {
     "views": [
      {
       "cell_index": 2
      }
     ]
    },
    "c1c8350ac4e6441db3718474d909a148": {
     "views": [
      {
       "cell_index": 2
      }
     ]
    },
    "c214ab33a3ae4b5c8b039dad18ccb97b": {
     "views": [
      {
       "cell_index": 2
      }
     ]
    },
    "c5e076f7c2f84e58a7e3ccd6f3c783e6": {
     "views": [
      {
       "cell_index": 2
      }
     ]
    },
    "c73f052b484041d4bd5f6c423fb667ba": {
     "views": [
      {
       "cell_index": 2
      }
     ]
    },
    "c8053aba16594396a799a5ee5b35faa8": {
     "views": [
      {
       "cell_index": 2
      }
     ]
    },
    "c927127f3f774f0c82acabddb38e435b": {
     "views": [
      {
       "cell_index": 2
      }
     ]
    },
    "cd0acbbc58b34e5f9eb608bac7a783c4": {
     "views": [
      {
       "cell_index": 2
      }
     ]
    },
    "ce309508feea4ee9ab3e556496c81284": {
     "views": [
      {
       "cell_index": 2
      }
     ]
    },
    "ceeea9200eee4ea2976c5df9065c5038": {
     "views": [
      {
       "cell_index": 2
      }
     ]
    },
    "cf387b311fe646e2ae979f264b35724b": {
     "views": [
      {
       "cell_index": 2
      }
     ]
    },
    "cf95c92c707c4639a56f6ee8a4382fe5": {
     "views": [
      {
       "cell_index": 2
      }
     ]
    },
    "d0a2f79d3eba462ba5182a94f0c67072": {
     "views": [
      {
       "cell_index": 2
      }
     ]
    },
    "d1d757bd1e4b431b9f805586da57de0c": {
     "views": [
      {
       "cell_index": 2
      }
     ]
    },
    "d2d57a0d47bf40fc927a84d148dfe4ba": {
     "views": [
      {
       "cell_index": 3
      }
     ]
    },
    "d3d31e8075dc4d71987de6b078f5879a": {
     "views": [
      {
       "cell_index": 2
      }
     ]
    },
    "d6c7d7d763594b7387e3ca49e6b414c6": {
     "views": [
      {
       "cell_index": 2
      }
     ]
    },
    "d8aa4c0820df4f06bf8b0988446a2915": {
     "views": [
      {
       "cell_index": 2
      }
     ]
    },
    "da6e7d58363b4cad83fa5c2a5ed47bf4": {
     "views": [
      {
       "cell_index": 2
      }
     ]
    },
    "dd12e6f528d54e048a5d38b8a5ec0cd3": {
     "views": [
      {
       "cell_index": 2
      }
     ]
    },
    "e4e99e1d7e854e6fb21910916dd254cb": {
     "views": [
      {
       "cell_index": 2
      }
     ]
    },
    "e5f6323398e44079a7d4414e1bfdbbfd": {
     "views": [
      {
       "cell_index": 2
      }
     ]
    },
    "e7047d9eb5ec4302a70d0bbb8b74c85f": {
     "views": [
      {
       "cell_index": 2
      }
     ]
    },
    "e90fb8b9ae494dd6b4a2cc8d93e1410c": {
     "views": [
      {
       "cell_index": 2
      }
     ]
    },
    "e92720ee804b44e08ce4b52fa26c7139": {
     "views": [
      {
       "cell_index": 2
      }
     ]
    },
    "e95c4eaefdb941df92226620e99b2edf": {
     "views": [
      {
       "cell_index": 2
      }
     ]
    },
    "eacebe00ef594f85a30f8d98a617f519": {
     "views": [
      {
       "cell_index": 2
      }
     ]
    },
    "ef952f5fe6ba4be4ab5d8a8407520992": {
     "views": [
      {
       "cell_index": 2
      }
     ]
    },
    "f0515ec719df4c5faa511e06e55dc3b3": {
     "views": [
      {
       "cell_index": 2
      }
     ]
    },
    "f11ad7f015c44bf19ef381099ffb2fa4": {
     "views": [
      {
       "cell_index": 2
      }
     ]
    },
    "f673a1c411f941d09f5ed64f0054e596": {
     "views": [
      {
       "cell_index": 2
      }
     ]
    },
    "f91238aa14d64b1d88c77848e4c2c796": {
     "views": [
      {
       "cell_index": 3
      }
     ]
    },
    "fbee22131be8407c9b6073cb149c1194": {
     "views": [
      {
       "cell_index": 2
      }
     ]
    },
    "fcb4632de96c433e8cd7f040a360d061": {
     "views": [
      {
       "cell_index": 2
      }
     ]
    }
   },
   "version": "1.2.0"
  }
 },
 "nbformat": 4,
 "nbformat_minor": 2
}
