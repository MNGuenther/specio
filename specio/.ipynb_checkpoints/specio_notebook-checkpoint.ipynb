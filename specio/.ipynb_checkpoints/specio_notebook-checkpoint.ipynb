{
 "cells": [
  {
   "cell_type": "markdown",
   "metadata": {
    "extensions": {
     "jupyter_dashboards": {
      "version": 1,
      "views": {
       "grid_default": {
        "col": 0,
        "height": 4,
        "hidden": false,
        "row": 0,
        "width": 4
       },
       "report_default": {}
      }
     }
    }
   },
   "source": [
    "# SPECIO"
   ]
  },
  {
   "cell_type": "code",
   "execution_count": 1,
   "metadata": {
    "extensions": {
     "jupyter_dashboards": {
      "version": 1,
      "views": {
       "grid_default": {
        "col": 4,
        "height": 4,
        "hidden": false,
        "row": 0,
        "width": 4
       },
       "report_default": {}
      }
     }
    }
   },
   "outputs": [
    {
     "data": {
      "text/html": [
       "<button id=\"do_run_all\">Start</button>\n",
       "<script>\n",
       "$(\"#do_run_all\").click(\n",
       "    function () {\n",
       "        $(\"#run_all_cells\").click();\n",
       "    }\n",
       ");\n",
       "</script>"
      ],
      "text/plain": [
       "<IPython.core.display.HTML object>"
      ]
     },
     "metadata": {},
     "output_type": "display_data"
    }
   ],
   "source": [
    "%%HTML\n",
    "<button id=\"do_run_all\">Start</button>\n",
    "<script>\n",
    "$(\"#do_run_all\").click(\n",
    "    function () {\n",
    "        $(\"#run_all_cells\").click();\n",
    "    }\n",
    ");\n",
    "</script>"
   ]
  },
  {
   "cell_type": "code",
   "execution_count": 2,
   "metadata": {
    "extensions": {
     "jupyter_dashboards": {
      "version": 1,
      "views": {
       "grid_default": {
        "col": 0,
        "height": 4,
        "hidden": false,
        "row": 32,
        "width": 4
       },
       "report_default": {}
      }
     }
    }
   },
   "outputs": [
    {
     "data": {
      "text/html": [
       "<script>\n",
       "  function code_toggle() {\n",
       "    if (code_shown){\n",
       "      $('div.input').hide('500');\n",
       "      $('#toggleButton').val('Show Code')\n",
       "    } else {\n",
       "      $('div.input').show('500');\n",
       "      $('#toggleButton').val('Hide Code')\n",
       "    }\n",
       "    code_shown = !code_shown\n",
       "  }\n",
       "\n",
       "  $( document ).ready(function(){\n",
       "    code_shown=false;\n",
       "    $('div.input').hide()\n",
       "  });\n",
       "</script>\n",
       "<form action=\"javascript:code_toggle()\"><input type=\"submit\" id=\"toggleButton\" value=\"Show Code\"></form>"
      ],
      "text/plain": [
       "<IPython.core.display.HTML object>"
      ]
     },
     "metadata": {},
     "output_type": "display_data"
    }
   ],
   "source": [
    "%%HTML\n",
    "<script>\n",
    "  function code_toggle() {\n",
    "    if (code_shown){\n",
    "      $('div.input').hide('500');\n",
    "      $('#toggleButton').val('Show Code')\n",
    "    } else {\n",
    "      $('div.input').show('500');\n",
    "      $('#toggleButton').val('Hide Code')\n",
    "    }\n",
    "    code_shown = !code_shown\n",
    "  }\n",
    "\n",
    "  $( document ).ready(function(){\n",
    "    code_shown=false;\n",
    "    $('div.input').hide()\n",
    "  });\n",
    "</script>\n",
    "<form action=\"javascript:code_toggle()\"><input type=\"submit\" id=\"toggleButton\" value=\"Show Code\"></form>"
   ]
  },
  {
   "cell_type": "code",
   "execution_count": 3,
   "metadata": {},
   "outputs": [
    {
     "data": {
      "application/vnd.jupyter.widget-view+json": {
       "model_id": "05b29e21dae145529529f4de5dbcbb47",
       "version_major": 2,
       "version_minor": 0
      },
      "text/plain": [
       "SEJveChjaGlsZHJlbj0oQnV0dG9uKGRlc2NyaXB0aW9uPXUnUXVlcnkgYnkgdGFyZ2V0Jywgc3R5bGU9QnV0dG9uU3R5bGUoYnV0dG9uX2NvbG9yPSdsaWdodHN0ZWVsYmx1ZScpKSwgQnV0dG/igKY=\n"
      ]
     },
     "metadata": {},
     "output_type": "display_data"
    },
    {
     "name": "stdout",
     "output_type": "stream",
     "text": [
      "\u001b[32m[I 13:44:46.448 NotebookApp]\u001b[m The port 8888 is already in use, trying another port.\n",
      "\u001b[32m[I 13:44:46.449 NotebookApp]\u001b[m The port 8889 is already in use, trying another port.\n",
      "\u001b[32m[I 13:44:46.450 NotebookApp]\u001b[m The port 8890 is already in use, trying another port.\n",
      "\u001b[32m[I 13:44:46.533 NotebookApp]\u001b[m [jupyter_nbextensions_configurator] enabled 0.4.0\n",
      "\u001b[32m[I 13:44:46.601 NotebookApp]\u001b[m JupyterLab beta preview extension loaded from /Applications/anaconda/envs/env_2018a/lib/python2.7/site-packages/jupyterlab\n",
      "\u001b[32m[I 13:44:46.602 NotebookApp]\u001b[m JupyterLab application directory is /Applications/anaconda/envs/env_2018a/share/jupyter/lab\n",
      "\u001b[32m[I 13:44:46.621 NotebookApp]\u001b[m Serving notebooks from local directory: /Users/mx/Data/Science/SPECULOOS_Postdoc/SPECIO/specio\n",
      "\u001b[32m[I 13:44:46.621 NotebookApp]\u001b[m 0 active kernels\n",
      "\u001b[32m[I 13:44:46.621 NotebookApp]\u001b[m The Jupyter Notebook is running at:\n",
      "\u001b[32m[I 13:44:46.621 NotebookApp]\u001b[m http://localhost:8891/?token=0bcd53741b2c07047c57ef1e6696d6670cb43e455d091603\n",
      "\u001b[32m[I 13:44:46.621 NotebookApp]\u001b[m Use Control-C to stop this server and shut down all kernels (twice to skip confirmation).\n",
      "[C 13:44:46.623 NotebookApp] \n",
      "    \n",
      "    Copy/paste this URL into your browser when you connect for the first time,\n",
      "    to login with a token:\n",
      "        http://localhost:8891/?token=0bcd53741b2c07047c57ef1e6696d6670cb43e455d091603&token=0bcd53741b2c07047c57ef1e6696d6670cb43e455d091603\n",
      "\u001b[32m[I 13:44:46.777 NotebookApp]\u001b[m Accepting one-time-token-authenticated connection from 127.0.0.1\n",
      "\u001b[32m[I 13:44:48.864 NotebookApp]\u001b[m Kernel started: ebc57723-0415-4e6f-9858-e052d86eb099\n",
      "\u001b[32m[I 13:44:50.213 NotebookApp]\u001b[m Adapting to protocol v5.1 for kernel ebc57723-0415-4e6f-9858-e052d86eb099\n",
      "\u001b[33m[W 13:44:51.696 NotebookApp]\u001b[m 404 GET /api/kernels/ea9d8414-eedd-456d-90d8-5cfd6470abce/channels?session_id=dee90b3727944a0d8b52d1ba0e1efd30 (::1): Kernel does not exist: ea9d8414-eedd-456d-90d8-5cfd6470abce\n",
      "\u001b[33m[W 13:44:51.720 NotebookApp]\u001b[m 404 GET /api/kernels/ea9d8414-eedd-456d-90d8-5cfd6470abce/channels?session_id=dee90b3727944a0d8b52d1ba0e1efd30 (::1) 29.15ms referer=None\n",
      "\u001b[33m[W 13:45:07.739 NotebookApp]\u001b[m Replacing stale connection: ea9d8414-eedd-456d-90d8-5cfd6470abce:dee90b3727944a0d8b52d1ba0e1efd30\n"
     ]
    }
   ],
   "source": [
    "from IPython.display import HTML, display, clear_output, Javascript\n",
    "import ipywidgets as widgets\n",
    "\n",
    "###############################################################################\n",
    "# Buttons\n",
    "###############################################################################\n",
    "\n",
    "def run_specio_query_by_target(b):\n",
    "    !jupyter notebook specio.ipynb\n",
    "    \n",
    "def run_specio_query_by_night(b):\n",
    "    !jupyter notebook specio_query_by_night.ipynb\n",
    "\n",
    "button1 = widgets.Button(description=\"Query by target\")\n",
    "button1.style.button_color = 'lightsteelblue'\n",
    "button1.on_click(run_specio_query_by_target)\n",
    "\n",
    "button2 = widgets.Button(description=\"Query by night\")\n",
    "button2.style.button_color = 'lightsteelblue'\n",
    "button2.on_click(run_specio_query_by_night)\n",
    "\n",
    "hbox = widgets.HBox([button1, button2])\n",
    "display(hbox)\n",
    ";"
   ]
  },
  {
   "cell_type": "code",
   "execution_count": 4,
   "metadata": {},
   "outputs": [
    {
     "data": {
      "application/javascript": [
       "IPython.OutputArea.prototype._should_scroll = function(lines) {\n",
       "    return false;\n",
       "};"
      ],
      "text/plain": [
       "<IPython.core.display.Javascript object>"
      ]
     },
     "metadata": {},
     "output_type": "display_data"
    }
   ],
   "source": [
    "%%javascript\n",
    "IPython.OutputArea.prototype._should_scroll = function(lines) {\n",
    "    return false;\n",
    "};"
   ]
  }
 ],
 "metadata": {
  "extensions": {
   "jupyter_dashboards": {
    "activeView": "grid_default",
    "version": 1,
    "views": {
     "grid_default": {
      "cellMargin": 10,
      "defaultCellHeight": 20,
      "maxColumns": 12,
      "name": "grid",
      "type": "grid"
     },
     "report_default": {
      "name": "report",
      "type": "report"
     }
    }
   }
  },
  "kernelspec": {
   "display_name": "Python 2",
   "language": "python",
   "name": "python2"
  },
  "language_info": {
   "codemirror_mode": {
    "name": "ipython",
    "version": 2
   },
   "file_extension": ".py",
   "mimetype": "text/x-python",
   "name": "python",
   "nbconvert_exporter": "python",
   "pygments_lexer": "ipython2",
   "version": "2.7.15"
  },
  "widgets": {
   "state": {
    "b9a5825bc5e2449aabc3ef7efb0735ae": {
     "views": [
      {
       "cell_index": 5
      }
     ]
    }
   },
   "version": "1.2.0"
  }
 },
 "nbformat": 4,
 "nbformat_minor": 2
}
