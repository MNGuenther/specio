{
 "cells": [
  {
   "cell_type": "markdown",
   "metadata": {
    "extensions": {
     "jupyter_dashboards": {
      "version": 1,
      "views": {
       "grid_default": {
        "col": 0,
        "height": 4,
        "hidden": false,
        "row": 0,
        "width": 4
       },
       "report_default": {}
      }
     }
    }
   },
   "source": [
    "# SPECIO"
   ]
  },
  {
   "cell_type": "code",
   "execution_count": 1,
   "metadata": {
    "extensions": {
     "jupyter_dashboards": {
      "version": 1,
      "views": {
       "grid_default": {
        "col": 4,
        "height": 4,
        "hidden": false,
        "row": 0,
        "width": 4
       },
       "report_default": {}
      }
     }
    }
   },
   "outputs": [
    {
     "data": {
      "text/html": [
       "<button id=\"do_run_all\">Start</button>\n",
       "<script>\n",
       "$(\"#do_run_all\").click(\n",
       "    function () {\n",
       "        $(\"#run_all_cells\").click();\n",
       "    }\n",
       ");\n",
       "</script>"
      ],
      "text/plain": [
       "<IPython.core.display.HTML object>"
      ]
     },
     "metadata": {},
     "output_type": "display_data"
    }
   ],
   "source": [
    "%%HTML\n",
    "<button id=\"do_run_all\">Start</button>\n",
    "<script>\n",
    "$(\"#do_run_all\").click(\n",
    "    function () {\n",
    "        $(\"#run_all_cells\").click();\n",
    "    }\n",
    ");\n",
    "</script>"
   ]
  },
  {
   "cell_type": "code",
   "execution_count": 2,
   "metadata": {
    "extensions": {
     "jupyter_dashboards": {
      "version": 1,
      "views": {
       "grid_default": {
        "col": 0,
        "height": 4,
        "hidden": false,
        "row": 32,
        "width": 4
       },
       "report_default": {}
      }
     }
    }
   },
   "outputs": [
    {
     "data": {
      "text/html": [
       "<script>\n",
       "  function code_toggle() {\n",
       "    if (code_shown){\n",
       "      $('div.input').hide('500');\n",
       "      $('#toggleButton').val('Show Code')\n",
       "    } else {\n",
       "      $('div.input').show('500');\n",
       "      $('#toggleButton').val('Hide Code')\n",
       "    }\n",
       "    code_shown = !code_shown\n",
       "  }\n",
       "\n",
       "  $( document ).ready(function(){\n",
       "    code_shown=false;\n",
       "    $('div.input').hide()\n",
       "  });\n",
       "</script>\n",
       "<form action=\"javascript:code_toggle()\"><input type=\"submit\" id=\"toggleButton\" value=\"Show Code\"></form>"
      ],
      "text/plain": [
       "<IPython.core.display.HTML object>"
      ]
     },
     "metadata": {},
     "output_type": "display_data"
    }
   ],
   "source": [
    "%%HTML\n",
    "<script>\n",
    "  function code_toggle() {\n",
    "    if (code_shown){\n",
    "      $('div.input').hide('500');\n",
    "      $('#toggleButton').val('Show Code')\n",
    "    } else {\n",
    "      $('div.input').show('500');\n",
    "      $('#toggleButton').val('Hide Code')\n",
    "    }\n",
    "    code_shown = !code_shown\n",
    "  }\n",
    "\n",
    "  $( document ).ready(function(){\n",
    "    code_shown=false;\n",
    "    $('div.input').hide()\n",
    "  });\n",
    "</script>\n",
    "<form action=\"javascript:code_toggle()\"><input type=\"submit\" id=\"toggleButton\" value=\"Show Code\"></form>"
   ]
  },
  {
   "cell_type": "code",
   "execution_count": 3,
   "metadata": {},
   "outputs": [
    {
     "data": {
      "application/javascript": [
       "IPython.OutputArea.prototype._should_scroll = function(lines) {\n",
       "    return false;\n",
       "}"
      ],
      "text/plain": [
       "<IPython.core.display.Javascript object>"
      ]
     },
     "metadata": {},
     "output_type": "display_data"
    }
   ],
   "source": [
    "%%javascript\n",
    "IPython.OutputArea.prototype._should_scroll = function(lines) {\n",
    "    return false;\n",
    "}"
   ]
  },
  {
   "cell_type": "code",
   "execution_count": 4,
   "metadata": {
    "extensions": {
     "jupyter_dashboards": {
      "version": 1,
      "views": {
       "grid_default": {
        "hidden": true
       },
       "report_default": {}
      }
     }
    }
   },
   "outputs": [],
   "source": [
    "%matplotlib notebook\n",
    "from IPython.display import HTML, display, clear_output, Javascript\n",
    "import ipywidgets as widgets\n",
    "import specio\n",
    "import os\n",
    "from glob import glob\n",
    "import pandas as pd\n",
    "import numpy as np"
   ]
  },
  {
   "cell_type": "code",
   "execution_count": 5,
   "metadata": {
    "extensions": {
     "jupyter_dashboards": {
      "version": 1,
      "views": {
       "grid_default": {
        "col": 8,
        "height": 4,
        "hidden": false,
        "row": 0,
        "width": 4
       },
       "report_default": {}
      }
     }
    },
    "scrolled": true
   },
   "outputs": [
    {
     "data": {
      "text/html": [
       "<style>.widget-label { min-width: 20ex !important; }</style>"
      ],
      "text/plain": [
       "<IPython.core.display.HTML object>"
      ]
     },
     "metadata": {},
     "output_type": "display_data"
    },
    {
     "data": {
      "text/html": [
       "<style>.container { width:100% !important; }</style>"
      ],
      "text/plain": [
       "<IPython.core.display.HTML object>"
      ]
     },
     "metadata": {},
     "output_type": "display_data"
    }
   ],
   "source": [
    "display(HTML('''<style>.widget-label { min-width: 20ex !important; }</style>''')) #widget label width\n",
    "display(HTML(\"<style>.container { width:100% !important; }</style>\")) #cell width"
   ]
  },
  {
   "cell_type": "code",
   "execution_count": 6,
   "metadata": {
    "extensions": {
     "jupyter_dashboards": {
      "version": 1,
      "views": {
       "grid_default": {
        "col": 0,
        "height": 28,
        "hidden": false,
        "row": 4,
        "width": 11
       },
       "report_default": {}
      }
     }
    }
   },
   "outputs": [
    {
     "data": {
      "application/vnd.jupyter.widget-view+json": {
       "model_id": "3eedcb1ffaaf43e5baaf45ac15253731",
       "version_major": 2,
       "version_minor": 0
      },
      "text/plain": [
       "SEJveChjaGlsZHJlbj0oQ2hlY2tib3godmFsdWU9VHJ1ZSwgZGVzY3JpcHRpb249dSdTaG93IG92ZXJ2aWV3IHBsb3RzJyksIENoZWNrYm94KHZhbHVlPUZhbHNlLCBkZXNjcmlwdGlvbj11J1PigKY=\n"
      ]
     },
     "metadata": {},
     "output_type": "display_data"
    },
    {
     "data": {
      "application/vnd.jupyter.widget-view+json": {
       "model_id": "a7357eca159f4924bc8ddbf8cfa9c37a",
       "version_major": 2,
       "version_minor": 0
      },
      "text/plain": [
       "SEJveChjaGlsZHJlbj0oRHJvcGRvd24oZGVzY3JpcHRpb249dSdUZWxlc2NvcGUnLCBpbmRleD0yLCBvcHRpb25zPSgnSW8nLCAnRXVyb3BhJywgJ0NhbGxpc3RvJywgJ0dhbnltZWQnKSwgdmHigKY=\n"
      ]
     },
     "metadata": {},
     "output_type": "display_data"
    }
   ],
   "source": [
    "#::: show overview checkbox widget    \n",
    "show_overview_w = widgets.Checkbox(\n",
    "    value = True,\n",
    "    description='Show overview plots'\n",
    ")\n",
    "#bool_show_overview = show_overview_w.value\n",
    "    \n",
    "    \n",
    "    \n",
    "#::: show stats checkbox widget    \n",
    "show_stats_w = widgets.Checkbox(\n",
    "    value = False,\n",
    "    description='Show observing stats table'\n",
    ")\n",
    "#bool_show_stats = show_stats_w.value\n",
    "\n",
    "\n",
    "#::: show ACP pointing checkbox widget    \n",
    "show_ACP_pointing_w = widgets.Checkbox(\n",
    "    value = False,\n",
    "    description='Show ACP pointing plot'\n",
    ")\n",
    "#bool_show_ACP_pointing_plot = show_ACP_pointing_w.value\n",
    "    \n",
    "    \n",
    "\n",
    "#::: telescope drowndown widget\n",
    "telescope_w = widgets.Dropdown(\n",
    "    options=['Io','Europa','Callisto','Ganymed'],\n",
    "    value='Callisto',\n",
    "    description='Telescope'\n",
    ")\n",
    "#display(telescope_w)\n",
    "\n",
    "\n",
    "#::: read available fields and filters for this telescope\n",
    "def get_field_and_filter_w_options():\n",
    "    telescope = telescope_w.value\n",
    "    try:\n",
    "        buf = glob( os.path.join(specio.root(telescope), '*_output.fts') )\n",
    "        fields_and_filters = [ item.split('/')[-1][0:-11] for item in buf ]\n",
    "        return fields_and_filters\n",
    "    except:\n",
    "        return ['No data available']\n",
    "\n",
    "\n",
    "#::: fields and filters dropdown widget\n",
    "field_and_filter_w = widgets.Dropdown(\n",
    "    options=get_field_and_filter_w_options(),\n",
    "    description='Fields and filters'\n",
    ")\n",
    "#display(field_and_filter_w)\n",
    "#field_name, filter_band = field_and_filter_w.value.split('_')\n",
    "\n",
    "\n",
    "#::: read available obj_ids for this telescope, field and filter\n",
    "def get_obj_id_w_options():\n",
    "    telescope = telescope_w.value\n",
    "    try:\n",
    "        field_name, filter_band = field_and_filter_w.value.split('_')\n",
    "        dic = specio.get(telescope, field_name, filter_band, ['OBJ_ID'], silent=True)\n",
    "        obj_ids = list(dic['OBJ_ID'])\n",
    "        return obj_ids\n",
    "    except:\n",
    "        return ['No data available']\n",
    "        \n",
    "\n",
    "#::: OBJ_IDs dropdown widget\n",
    "obj_id_w = widgets.Dropdown(\n",
    "    options=get_obj_id_w_options(),\n",
    "    description='Object ID'\n",
    ")\n",
    "#display(obj_id_w)\n",
    "#obj_id = obj_id_w.value\n",
    "\n",
    "\n",
    "#::: read available obj_ids for this telescope, field and filter\n",
    "def get_date_w_options():\n",
    "    try:\n",
    "        telescope = telescope_w.value\n",
    "        field_name, filter_band = field_and_filter_w.value.split('_')\n",
    "        obj_id = obj_id_w.value\n",
    "        dic = specio.get(telescope, field_name, filter_band, ['STATS'], silent=True)\n",
    "        #print dic\n",
    "        dates = ['all'] + list(dic['STATS'][0])\n",
    "        Nimages = [str(np.sum(dic['STATS'][1]))] + [ str(item) for item in dic['STATS'][1] ]\n",
    "        date_Nimages = [ item0+'    ('+item1+' img)' for item0, item1 in zip(dates, Nimages)   ]\n",
    "        return date_Nimages\n",
    "    except:\n",
    "        return ['No data available']\n",
    "        \n",
    "\n",
    "#::: date dropdown widget\n",
    "date_w = widgets.Dropdown(\n",
    "    options=get_date_w_options(),\n",
    "    description='Date'\n",
    ")\n",
    "#display(date_w)\n",
    "#date = date_w.value\n",
    "\n",
    "\n",
    "def get_output_w_value():\n",
    "    try:\n",
    "        dic = specio.get(telescope_w.value, field_and_filter_w.value.split('_')[0], field_and_filter_w.value.split('_')[1], ['STATS'], silent=True)\n",
    "        return str(len(dic['STATS'][0])) + ' nights, ' + str(np.sum(dic['STATS'][1])) + ' images'\n",
    "    except:\n",
    "        return 'No data available'\n",
    "    \n",
    "\n",
    "#::: stats output widget\n",
    "output_w = widgets.Text(\n",
    "    value=get_output_w_value(),\n",
    "    placeholder='',\n",
    "    description='    ',\n",
    "    disabled=True\n",
    ")\n",
    "\n",
    "\n",
    "#::: selection changes, update dropdown menus\n",
    "def update(b):\n",
    "    #bool_show_overview = show_overview_w.value\n",
    "    #bool_show_stats = show_stats_w.value\n",
    "    #bool_show_ACP_pointing_plot = show_ACP_pointing_w.value\n",
    "    \n",
    "    field_and_filter_w.options = get_field_and_filter_w_options()\n",
    "    obj_id_w.options = get_obj_id_w_options()\n",
    "    date_w.options = get_date_w_options()\n",
    "    output_w.value = get_output_w_value()\n",
    "    \n",
    "    #run_all()\n",
    "    \n",
    "    \n",
    "#::: selection changes, update dropdown menus\n",
    "show_overview_w.observe(update)\n",
    "show_stats_w.observe(update)\n",
    "show_ACP_pointing_w.observe(update)\n",
    "telescope_w.observe(update)\n",
    "field_and_filter_w.observe(update)\n",
    "obj_id_w.observe(update)\n",
    "date_w.observe(update)\n",
    "\n",
    "\n",
    "\n",
    "#::: combine all widgets in an hbox\n",
    "hbox1 = widgets.HBox([show_overview_w, show_stats_w, show_ACP_pointing_w])\n",
    "hbox2 = widgets.HBox([telescope_w, field_and_filter_w, obj_id_w, date_w, output_w])\n",
    "\n",
    "\n",
    "#::: display all widgets\n",
    "display(hbox1)\n",
    "display(hbox2)"
   ]
  },
  {
   "cell_type": "code",
   "execution_count": 7,
   "metadata": {},
   "outputs": [
    {
     "ename": "IndentationError",
     "evalue": "expected an indented block (<ipython-input-7-cd1e945a4843>, line 9)",
     "output_type": "error",
     "traceback": [
      "\u001b[0;36m  File \u001b[0;32m\"<ipython-input-7-cd1e945a4843>\"\u001b[0;36m, line \u001b[0;32m9\u001b[0m\n\u001b[0;31m    button = widgets.Button(description=\"Query\")\u001b[0m\n\u001b[0m         ^\u001b[0m\n\u001b[0;31mIndentationError\u001b[0m\u001b[0;31m:\u001b[0m expected an indented block\n"
     ]
    }
   ],
   "source": [
    "#::: run all cells below the run button cell\n",
    "def run_all(b):\n",
    "    #print bool_show_overview \n",
    "    #print show_overview_w.value\n",
    "    #print 'HELLO' \n",
    "    display(Javascript('IPython.notebook.execute_cells_below()'))\n",
    "\n",
    "#::: run button\n",
    "button = widgets.Button(description=\"Query\")\n",
    "display(button)\n",
    "button.on_click(run_all)"
   ]
  },
  {
   "cell_type": "markdown",
   "metadata": {
    "extensions": {
     "jupyter_dashboards": {
      "version": 1,
      "views": {
       "grid_default": {
        "col": 4,
        "height": 4,
        "hidden": false,
        "row": 32,
        "width": 4
       },
       "report_default": {}
      }
     }
    }
   },
   "source": [
    "## Overview plots"
   ]
  },
  {
   "cell_type": "code",
   "execution_count": null,
   "metadata": {
    "extensions": {
     "jupyter_dashboards": {
      "version": 1,
      "views": {
       "grid_default": {
        "col": 0,
        "height": 25,
        "hidden": false,
        "row": 36,
        "width": 11
       },
       "report_default": {}
      }
     }
    }
   },
   "outputs": [],
   "source": [
    "#::: run\n",
    "def show_overview():\n",
    "    clear_output()\n",
    "    #display(hbox)  \n",
    "    #display(telescope_w)\n",
    "    #display(field_and_filter_w)\n",
    "    #display(obj_id_w)\n",
    "    #display(date_w)\n",
    "    #display(button)\n",
    "    try:\n",
    "        telescope = telescope_w.value\n",
    "        field_name, filter_band = field_and_filter_w.value.split('_')\n",
    "        obj_id = obj_id_w.value\n",
    "        date = date_w.value[0:10]\n",
    "        if date[0:3] == 'all': date = 'all'\n",
    "        print telescope, field_name, filter_band, obj_id, date, '\\n'\n",
    "        if date=='all':\n",
    "            fig_overview, axes_overview = specio.plot_overview(telescope, field_name, filter_band, obj_id=obj_id)\n",
    "        else:   \n",
    "            fig_overview, axes_overview = specio.plot_overview(telescope, field_name, filter_band, obj_id=obj_id, time_date=date)\n",
    "    except:\n",
    "        print(\"No data available\")\n",
    "    \n",
    "        \n",
    "#::: run button\n",
    "#button = widgets.Button(description=\"Show\")\n",
    "#display(button)\n",
    "#button.on_click(run)\n",
    "\n",
    "#print bool_show_overview\n",
    "\n",
    "if show_overview_w.value:\n",
    "    show_overview()\n",
    "else:\n",
    "    clear_output()"
   ]
  },
  {
   "cell_type": "markdown",
   "metadata": {
    "extensions": {
     "jupyter_dashboards": {
      "version": 1,
      "views": {
       "grid_default": {
        "col": 8,
        "height": 4,
        "hidden": false,
        "row": 32,
        "width": 4
       },
       "report_default": {}
      }
     }
    }
   },
   "source": [
    "## Observing stats table"
   ]
  },
  {
   "cell_type": "code",
   "execution_count": null,
   "metadata": {
    "extensions": {
     "jupyter_dashboards": {
      "version": 1,
      "views": {
       "grid_default": {
        "col": 0,
        "height": 18,
        "hidden": false,
        "row": 61,
        "width": 4
       },
       "report_default": {}
      }
     }
    }
   },
   "outputs": [],
   "source": [
    "#################################################################################\n",
    "#::: Observing stats table\n",
    "##################################################################################\n",
    "\n",
    "'''\n",
    "#::: info widget\n",
    "def get_stats_info_w_value():\n",
    "    try:\n",
    "        return 'Observing table for ' + telescope_w.value + ', ' + field_and_filter_w.value.split('_')[0] + ', ' + field_and_filter_w.value.split('_')[1]\n",
    "    except:\n",
    "        return 'No data available'\n",
    "    \n",
    "\n",
    "#::: info widget\n",
    "stats_info_w = widgets.Text(\n",
    "    value=get_stats_info_w_value(),\n",
    "    placeholder='',\n",
    "    description='    ',\n",
    "    disabled=True,\n",
    "    layout=widgets.Layout(width='1000px')\n",
    ")\n",
    "'''\n",
    "\n",
    "#::: print stats as html table\n",
    "def print_stats_html_table(telescope, field_name, filter_band):\n",
    "    dic = specio.get(telescope, field_name, filter_band, ['STATS'], silent=True)\n",
    "    pdic = pd.DataFrame( data={'DATE':dic['STATS'][0], 'NUM_IMAGES':dic['STATS'][1]} )\n",
    "    display(pdic)\n",
    "\n",
    "    \n",
    "#::: show stats\n",
    "def show_stats():\n",
    "    clear_output()\n",
    "    #display(stats_info_w)\n",
    "    #display(stats_info_button)\n",
    "    try:\n",
    "        telescope = telescope_w.value\n",
    "        field_name, filter_band = field_and_filter_w.value.split('_')\n",
    "        obj_id = obj_id_w.value\n",
    "        date = date_w.value[0:10]\n",
    "        if date[0:3] == 'all': date = 'all'\n",
    "        print_stats_html_table(telescope, field_name, filter_band)\n",
    "    except:\n",
    "        pass\n",
    "    \n",
    "\n",
    "#stats_info_button = widgets.Button(description=\"Show\", label=\"blabla\")\n",
    "#stats_info_button.on_click(show_stats)\n",
    "\n",
    "#display(stats_info_w)\n",
    "#display(stats_info_button)\n",
    "\n",
    "if show_stats_w.value:\n",
    "    show_stats()\n",
    "else:\n",
    "    clear_output()"
   ]
  },
  {
   "cell_type": "markdown",
   "metadata": {
    "extensions": {
     "jupyter_dashboards": {
      "version": 1,
      "views": {
       "grid_default": {
        "col": 4,
        "height": 4,
        "hidden": false,
        "row": 61,
        "width": 4
       },
       "report_default": {}
      }
     }
    }
   },
   "source": [
    "## ACP pointing"
   ]
  },
  {
   "cell_type": "code",
   "execution_count": null,
   "metadata": {
    "extensions": {
     "jupyter_dashboards": {
      "version": 1,
      "views": {
       "grid_default": {
        "hidden": true
       },
       "report_default": {}
      }
     }
    }
   },
   "outputs": [],
   "source": [
    "#################################################################################\n",
    "#::: ACP pointing\n",
    "#################################################################################\n",
    "\n",
    "'''\n",
    "#::: info widget\n",
    "def get_ACP_info_w_value():\n",
    "    try:\n",
    "        return 'Show ACP pointing error for ' + telescope_w.value\n",
    "    except:\n",
    "        return 'No data available'\n",
    "    \n",
    "\n",
    "#::: info widget\n",
    "ACP_info_w = widgets.Text(\n",
    "    value=get_ACP_info_w_value(),\n",
    "    placeholder='',\n",
    "    description='    ',\n",
    "    disabled=True,\n",
    "    layout=widgets.Layout(width='1000px')\n",
    ")\n",
    "'''\n",
    "\n",
    "\n",
    "#::: show ACP pointing plot\n",
    "def show_ACP_pointing_plot():\n",
    "    clear_output()\n",
    "    #display(ACP_info_w)\n",
    "    #display(ACP_info_button)\n",
    "    try:\n",
    "        telescope = telescope_w.value\n",
    "        field_name, filter_band = field_and_filter_w.value.split('_')\n",
    "        obj_id = obj_id_w.value\n",
    "        date = date_w.value[0:10]\n",
    "        if date[0:3] == 'all': date = 'all'\n",
    "        if date=='all':\n",
    "            specio.plot_ACP_pointing(telescope)\n",
    "        else:\n",
    "            specio.plot_ACP_pointing(telescope,time_hjd=date)\n",
    "    except:\n",
    "        pass\n",
    "    \n",
    "\n",
    "#::: run button\n",
    "#ACP_info_button = widgets.Button(description=\"Show\")\n",
    "#ACP_info_button.on_click(show_ACP_pointing_plot)\n",
    "\n",
    "\n",
    "#display(ACP_info_w)\n",
    "#display(ACP_info_button)\n",
    "\n",
    "if show_ACP_pointing_w.value:\n",
    "    show_ACP_pointing_plot()\n",
    "else:\n",
    "    clear_output()"
   ]
  },
  {
   "cell_type": "code",
   "execution_count": null,
   "metadata": {
    "extensions": {
     "jupyter_dashboards": {
      "version": 1,
      "views": {
       "grid_default": {
        "hidden": true
       },
       "report_default": {}
      }
     }
    }
   },
   "outputs": [],
   "source": []
  }
 ],
 "metadata": {
  "extensions": {
   "jupyter_dashboards": {
    "activeView": "grid_default",
    "version": 1,
    "views": {
     "grid_default": {
      "cellMargin": 10,
      "defaultCellHeight": 20,
      "maxColumns": 12,
      "name": "grid",
      "type": "grid"
     },
     "report_default": {
      "name": "report",
      "type": "report"
     }
    }
   }
  },
  "kernelspec": {
   "display_name": "Python 2",
   "language": "python",
   "name": "python2"
  },
  "language_info": {
   "codemirror_mode": {
    "name": "ipython",
    "version": 2
   },
   "file_extension": ".py",
   "mimetype": "text/x-python",
   "name": "python",
   "nbconvert_exporter": "python",
   "pygments_lexer": "ipython2",
   "version": "2.7.15"
  },
  "widgets": {
   "state": {
    "b9a5825bc5e2449aabc3ef7efb0735ae": {
     "views": [
      {
       "cell_index": 5
      }
     ]
    }
   },
   "version": "1.2.0"
  }
 },
 "nbformat": 4,
 "nbformat_minor": 2
}
