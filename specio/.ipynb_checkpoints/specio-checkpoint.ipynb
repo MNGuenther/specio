{
 "cells": [
  {
   "cell_type": "markdown",
   "metadata": {
    "cell_style": "center",
    "extensions": {
     "jupyter_dashboards": {
      "version": 1,
      "views": {
       "grid_default": {
        "col": 0,
        "height": 4,
        "hidden": false,
        "row": 0,
        "width": 4
       },
       "report_default": {}
      }
     }
    }
   },
   "source": [
    "# SPECIO"
   ]
  },
  {
   "cell_type": "code",
   "execution_count": 6,
   "metadata": {
    "cell_style": "center",
    "extensions": {
     "jupyter_dashboards": {
      "version": 1,
      "views": {
       "grid_default": {
        "col": 4,
        "height": 4,
        "hidden": false,
        "row": 0,
        "width": 4
       },
       "report_default": {}
      }
     }
    },
    "init_cell": true,
    "scrolled": false
   },
   "outputs": [
    {
     "data": {
      "text/html": [
       "<script>\n",
       "  function code_toggle() {\n",
       "    if (code_shown){\n",
       "      $('div.input').hide('500');\n",
       "      $('#toggleButton').val('Show Code')\n",
       "    } else {\n",
       "      $('div.input').show('500');\n",
       "      $('#toggleButton').val('Hide Code')\n",
       "    }\n",
       "    code_shown = !code_shown\n",
       "  }\n",
       "\n",
       "  $( document ).ready(function(){\n",
       "    code_shown=false;\n",
       "    $('div.input').hide()\n",
       "  });\n",
       "</script>\n",
       "<form action=\"javascript:code_toggle()\"><input type=\"submit\" id=\"toggleButton\" value=\"Show Code\"></form>"
      ],
      "text/plain": [
       "<IPython.core.display.HTML object>"
      ]
     },
     "metadata": {},
     "output_type": "display_data"
    }
   ],
   "source": [
    "%%HTML\n",
    "<script>\n",
    "  function code_toggle() {\n",
    "    if (code_shown){\n",
    "      $('div.input').hide('500');\n",
    "      $('#toggleButton').val('Show Code')\n",
    "    } else {\n",
    "      $('div.input').show('500');\n",
    "      $('#toggleButton').val('Hide Code')\n",
    "    }\n",
    "    code_shown = !code_shown\n",
    "  }\n",
    "\n",
    "  $( document ).ready(function(){\n",
    "    code_shown=false;\n",
    "    $('div.input').hide()\n",
    "  });\n",
    "</script>\n",
    "<form action=\"javascript:code_toggle()\"><input type=\"submit\" id=\"toggleButton\" value=\"Show Code\"></form>"
   ]
  },
  {
   "cell_type": "code",
   "execution_count": 7,
   "metadata": {
    "init_cell": true
   },
   "outputs": [],
   "source": [
    "%matplotlib notebook\n",
    "#%matplotlib widget\n",
    "from IPython.display import HTML, display, clear_output, Javascript\n",
    "import ipywidgets as widgets\n",
    "import specio\n",
    "import os,sys,socket\n",
    "from glob import glob\n",
    "import pandas as pd\n",
    "import numpy as np\n",
    "import re\n",
    "from jupyterthemes import jtplot\n",
    "\n",
    "pd.set_option('display.max_rows', 1000)\n",
    "jtplot.style()\n",
    "#display(HTML('''<style>.widget-label { min-width: 20ex !important; }</style>''')) #widget label width\n",
    "#display(HTML(\"<style>.container { width:90% !important; }</style>\")) #cell width"
   ]
  },
  {
   "cell_type": "markdown",
   "metadata": {},
   "source": [
    "## By night:"
   ]
  },
  {
   "cell_type": "code",
   "execution_count": 8,
   "metadata": {
    "init_cell": true
   },
   "outputs": [
    {
     "data": {
      "application/vnd.jupyter.widget-view+json": {
       "model_id": "8b0a6be2acf44822a740c52c186b9ae2",
       "version_major": 2,
       "version_minor": 0
      },
      "text/plain": [
       "ToggleButton(value=False, description=u'Show/hide')"
      ]
     },
     "metadata": {},
     "output_type": "display_data"
    }
   ],
   "source": [
    "#::: run\n",
    "def run_query_night(b): \n",
    "    clear_output()\n",
    "    display(button_query_night)\n",
    "    if button_query_night.value:\n",
    "        display(specio.load_observing_log())\n",
    "\n",
    "#::: run button\n",
    "button_query_night = widgets.ToggleButton(value=False,description=\"Show/hide\")\n",
    "#button_query_night.style.button_color = 'lightsteelblue'\n",
    "display(button_query_night)\n",
    "button_query_night.observe(run_query_night)\n",
    "\n",
    "\n"
   ]
  },
  {
   "cell_type": "markdown",
   "metadata": {},
   "source": [
    "## By target:"
   ]
  },
  {
   "cell_type": "code",
   "execution_count": 9,
   "metadata": {
    "extensions": {
     "jupyter_dashboards": {
      "version": 1,
      "views": {
       "grid_default": {
        "col": 0,
        "height": 28,
        "hidden": false,
        "row": 4,
        "width": 11
       },
       "report_default": {}
      }
     }
    },
    "init_cell": true
   },
   "outputs": [
    {
     "data": {
      "application/vnd.jupyter.widget-view+json": {
       "model_id": "c651c88b08d3495f84e4b8bf9aea4141",
       "version_major": 2,
       "version_minor": 0
      },
      "text/plain": [
       "SEJveChjaGlsZHJlbj0oRHJvcGRvd24oZGVzY3JpcHRpb249dSdUZWxlc2NvcGUnLCBpbmRleD0yLCBvcHRpb25zPSgnSW8nLCAnRXVyb3BhJywgJ0NhbGxpc3RvJywgJ0dhbnltZWQnKSwgdmHigKY=\n"
      ]
     },
     "metadata": {},
     "output_type": "display_data"
    },
    {
     "data": {
      "application/vnd.jupyter.widget-view+json": {
       "model_id": "41e936e0ac024bb7811290bb50f739bf",
       "version_major": 2,
       "version_minor": 0
      },
      "text/plain": [
       "SEJveChjaGlsZHJlbj0oU2VsZWN0TXVsdGlwbGUoZGVzY3JpcHRpb249dSdTaG93JywgaW5kZXg9KDAsIDEsIDIpLCBvcHRpb25zPSgnSW1hZ2UnLCAnSW5mb3MnLCAnUGxvdHMnLCAnT2JzLiDigKY=\n"
      ]
     },
     "metadata": {},
     "output_type": "display_data"
    }
   ],
   "source": [
    "###############################################################################\n",
    "# Helper\n",
    "###############################################################################\n",
    "def sorted_nicely( l ):\n",
    "    convert = lambda text: int(text) if text.isdigit() else text\n",
    "    alphanum_key = lambda key: [convert(c) for c in re.split('([0-9]+)', key)]\n",
    "    return sorted(l, key = alphanum_key)\n",
    "\n",
    "    \n",
    "    \n",
    "###############################################################################\n",
    "# Drowndowns\n",
    "###############################################################################\n",
    "#::: telescope drowndown widget\n",
    "telescope_w = widgets.Dropdown(\n",
    "    options=['Io','Europa','Callisto','Ganymed'],\n",
    "    value='Callisto',\n",
    "    description='Telescope'\n",
    ")\n",
    "\n",
    "\n",
    "#::: read available fields and filters for this telescope\n",
    "def get_field_and_filter_w_options():\n",
    "    telescope = telescope_w.value\n",
    "    try:\n",
    "        buf = glob( os.path.join(specio.root(telescope), '*_output.fts') )\n",
    "        fields_and_filters = [ item.split('/')[-1][0:-11] for item in buf ]\n",
    "        fields_and_filters = sorted_nicely(fields_and_filters)\n",
    "        return fields_and_filters\n",
    "    except:\n",
    "        return ['No data available']\n",
    "\n",
    "\n",
    "#::: fields and filters dropdown widget\n",
    "field_and_filter_w = widgets.Dropdown(\n",
    "    options=get_field_and_filter_w_options(),\n",
    "    description='Field & filter'\n",
    ")\n",
    "\n",
    "\n",
    "#::: read available obj_ids for this telescope, field and filter\n",
    "def get_obj_id_w_options():\n",
    "    telescope = telescope_w.value\n",
    "    try:\n",
    "        field_name, filter_band = field_and_filter_w.value.split('_')\n",
    "        dic = specio.get(telescope, field_name, filter_band, ['OBJ_ID'], silent=True)\n",
    "        obj_ids = list(dic['OBJ_ID'])\n",
    "        return obj_ids\n",
    "    except:\n",
    "        return ['No data available']\n",
    "        \n",
    "\n",
    "#::: OBJ_IDs dropdown widget\n",
    "obj_id_w = widgets.Dropdown(\n",
    "    options=get_obj_id_w_options(),\n",
    "    description='Object ID'\n",
    ")\n",
    "\n",
    "\n",
    "#::: read available obj_ids for this telescope, field and filter\n",
    "def get_date_w_options():\n",
    "    try:\n",
    "        telescope = telescope_w.value\n",
    "        field_name, filter_band = field_and_filter_w.value.split('_')\n",
    "        obj_id = obj_id_w.value\n",
    "        dic = specio.get(telescope, field_name, filter_band, ['STATS'], silent=True)\n",
    "        #print dic\n",
    "        dates = ['all'] + list(dic['STATS'][0])\n",
    "        Nimages = [str(np.sum(dic['STATS'][1]))] + [ str(item) for item in dic['STATS'][1] ]\n",
    "        date_Nimages = [ item0+'    ('+item1+' img)' for item0, item1 in zip(dates, Nimages)   ]\n",
    "        return date_Nimages\n",
    "    except:\n",
    "        return ['No data available']\n",
    "        \n",
    "\n",
    "#::: date dropdown widget\n",
    "date_w = widgets.Dropdown(\n",
    "    options=get_date_w_options(),\n",
    "    description='Date'\n",
    ")\n",
    "\n",
    "\n",
    "###############################################################################\n",
    "#  Select what to show, extra plots and display\n",
    "###############################################################################\n",
    "show_w = widgets.SelectMultiple(\n",
    "    options=['Image','Infos','Plots','Obs. table','ACP pointing'],\n",
    "    value=['Image','Infos','Plots'],\n",
    "    description='Show'\n",
    ")\n",
    "    \n",
    "     \n",
    "extra_plot_selection_w = widgets.SelectMultiple(\n",
    "    options = sorted_nicely( ['FLUXERR', 'ERROR_8', 'ERROR_9', 'ERROR_4', 'ERROR_5', 'ERROR_6', 'ERROR_7', 'ERROR_1', 'ERROR_2', 'ERROR_3',\\\n",
    "               'CCDX', 'CCDY', 'PEAK', 'JD', 'ERROR_12', 'ERROR_13', 'ERROR_10', \\\n",
    "               'FLUX', 'FLUX_6', 'FLUX_7', 'FLUX_4', 'FLUX_5', 'FLUX_2', 'FLUX_3', 'FLUX_1', 'FLUX_8', 'FLUX_9', \\\n",
    "               'SKYBKG', 'FLUX_10', 'FLUX_11', 'FLUX_12', 'FLUX_13', 'ERROR_11', 'AIRMASS', 'ALTITUDE', 'AMBTEMP', 'AZIMUTH', \\\n",
    "               'BJD-OBS', 'CCD-TEMP', 'CROWDED', 'DEC', 'DEC_MOVE', 'DEWPOINT', 'EXPOSURE', 'FILTER', 'FILTFWHM', 'FOCALLEN', \\\n",
    "               'FOCUSPOS', 'FOCUSTEM', 'FRAME_SN', 'FWHM', 'HA', 'HJD-OBS', 'HUMIDITY', 'IMAGETYP', 'JD-OBS', 'MINPIX', 'NBSIZE', \\\n",
    "               'NUMBRMS', 'OBJECT', 'PA', 'RA', 'RA_MOVE', 'RAPOS', 'RCORE', 'SEEING', 'SKY_MOVE', 'SKYLEVEL', 'SKYNOISE', 'SKYTEMP', \\\n",
    "               'STDCRMS', 'TELESCOP', 'THRESHOL', 'WCSCOMPL', 'WCSF_DEC', 'WCSF_NS', 'WCSF_RA', 'WCSF_RMS', 'WINDSPD', 'XBINNING', 'YBINNING', \\\n",
    "               'PSF_A_1', 'PSF_B_1', 'PSF_T_1', 'PSF_A_2', 'PSF_B_2', 'PSF_T_2', 'PSF_A_3', 'PSF_B_3', 'PSF_T_3', 'PSF_A_4', 'PSF_B_4', 'PSF_T_4', \\\n",
    "               'PSF_A_5', 'PSF_B_5', 'PSF_T_5', 'PSF_A_6', 'PSF_B_6', 'PSF_T_6', 'PSF_A_7', 'PSF_B_7', 'PSF_T_7', 'PSF_A_8', 'PSF_B_8', 'PSF_T_8', \\\n",
    "               'PSF_A_9', 'PSF_B_9', 'PSF_T_9', 'CD1_1', 'CD1_2', 'CD2_1', 'CD2_2', 'CRPIX1', 'CRPIX2', 'CRVAL1', 'CRVAL2', 'CTYPE1', 'CTYPE2', \\\n",
    "               'HICOUNT', 'LOCOUNT', 'TMID', 'NSOURCES'] ),\n",
    "    disabled=False,\n",
    "    description='Extra plots'\n",
    ")\n",
    "\n",
    "\n",
    "display_size_w = widgets.Dropdown(\n",
    "    options=['normal', 'small'],\n",
    "    description='Display'\n",
    ")\n",
    "\n",
    "\n",
    "\n",
    "###############################################################################\n",
    "# Update\n",
    "###############################################################################\n",
    "#::: selection changes, update dropdown menus\n",
    "def update(b):\n",
    "    field_and_filter_w.options = get_field_and_filter_w_options()\n",
    "    obj_id_w.options = get_obj_id_w_options()\n",
    "    date_w.options = get_date_w_options()\n",
    "    \n",
    "    \n",
    "#::: selection changes, update dropdown menus\n",
    "#\n",
    "telescope_w.observe(update)\n",
    "field_and_filter_w.observe(update)\n",
    "obj_id_w.observe(update)\n",
    "date_w.observe(update)\n",
    "#\n",
    "show_w.observe(update)\n",
    "extra_plot_selection_w.observe(update)\n",
    "display_size_w.observe(update)\n",
    "\n",
    "\n",
    "\n",
    "###############################################################################\n",
    "# Display widgets\n",
    "###############################################################################\n",
    "hbox1 = widgets.HBox([telescope_w, field_and_filter_w, obj_id_w, date_w])\n",
    "hbox2 = widgets.HBox([show_w, extra_plot_selection_w, display_size_w])\n",
    "display(hbox1)\n",
    "display(hbox2)"
   ]
  },
  {
   "cell_type": "code",
   "execution_count": 10,
   "metadata": {
    "init_cell": true,
    "scrolled": true
   },
   "outputs": [
    {
     "data": {
      "application/vnd.jupyter.widget-view+json": {
       "model_id": "d7235809308b43979096647e48485d7d",
       "version_major": 2,
       "version_minor": 0
      },
      "text/plain": [
       "Button(description=u'Query', style=ButtonStyle())"
      ]
     },
     "metadata": {},
     "output_type": "display_data"
    }
   ],
   "source": [
    "###############################################################################\n",
    "# Run button\n",
    "###############################################################################\n",
    "#::: run all cells below the run button cell\n",
    "def run_all(b): \n",
    "    display(Javascript('IPython.notebook.execute_cells_below()'))\n",
    "\n",
    "#::: run button\n",
    "button = widgets.Button(description=\"Query\")\n",
    "#button.style.button_color = 'lightsteelblue'\n",
    "display(button)\n",
    "button.on_click(run_all)"
   ]
  },
  {
   "cell_type": "markdown",
   "metadata": {
    "cell_style": "split"
   },
   "source": [
    "### Image"
   ]
  },
  {
   "cell_type": "markdown",
   "metadata": {
    "cell_style": "split"
   },
   "source": [
    "### Infos"
   ]
  },
  {
   "cell_type": "code",
   "execution_count": null,
   "metadata": {
    "cell_style": "split",
    "scrolled": false
   },
   "outputs": [],
   "source": [
    "#################################################################################\n",
    "#::: Stacked Image\n",
    "##################################################################################\n",
    "\n",
    "apertures_w = widgets.ToggleButton(\n",
    "    value=False,\n",
    "    description='Show/hide apertures'\n",
    ")\n",
    "\n",
    "image_select_w = widgets.Text(\n",
    "    value='',\n",
    "    description='Selected',\n",
    "    disabled=True\n",
    ")\n",
    "\n",
    "#collector = ''\n",
    "def onclick(event):\n",
    "    try:\n",
    "        telescope = telescope_w.value\n",
    "        field_name, filter_band = field_and_filter_w.value.split('_')\n",
    "        #collector = 'button=%d, x=%d, y=%d, xdata=%f, ydata=%f'%(\n",
    "            #event.button, event.x, event.y, event.xdata, event.ydata)\n",
    "        obj_id_selected = specio.find_ccdx_ccdy_from_stacked_image(float(event.xdata),float(event.ydata),telescope,field_name,filter_band)\n",
    "        image_select_w.value = str(obj_id_selected)\n",
    "    except:\n",
    "        image_select_w.value = '-'\n",
    "    \n",
    "def show_stackimage():\n",
    "    try:\n",
    "        telescope = telescope_w.value\n",
    "        field_name, filter_band = field_and_filter_w.value.split('_')\n",
    "        obj_id = obj_id_w.value\n",
    "        fig, ax, apt_artist = specio.plot_stackimage(telescope, field_name, filter_band, obj_id=obj_id)\n",
    "        cid = fig.canvas.mpl_connect('button_press_event', onclick)\n",
    "        return apt_artist\n",
    "    except:\n",
    "        print(\"No data available\")\n",
    "\n",
    "\n",
    "def query_again(b):\n",
    "    obj_id_w.value = image_select_w.value\n",
    "    run_all(True)\n",
    "    \n",
    "button2 = widgets.Button(description=\"New query\")\n",
    "button2.on_click(query_again)\n",
    "\n",
    "\n",
    "if 'Image' in show_w.value:\n",
    "    apt_artist = show_stackimage()\n",
    "    hbox3 = widgets.HBox([apertures_w, image_select_w, button2])\n",
    "    display(hbox3)\n",
    "else:\n",
    "    clear_output()\n",
    "    \n",
    "def overplot_apertures(b):\n",
    "    if apertures_w.value:\n",
    "        for ln in apt_artist:\n",
    "            ln.set_visible(False)\n",
    "    else:\n",
    "        for ln in apt_artist:\n",
    "            ln.set_visible(True)\n",
    "apertures_w.observe(overplot_apertures, 'value')\n"
   ]
  },
  {
   "cell_type": "code",
   "execution_count": null,
   "metadata": {
    "cell_style": "split",
    "scrolled": true
   },
   "outputs": [],
   "source": [
    "def show_infos():    \n",
    "    clear_output()\n",
    "    try:\n",
    "        telescope = telescope_w.value\n",
    "        field_name, filter_band = field_and_filter_w.value.split('_')\n",
    "        obj_id = obj_id_w.value\n",
    "        specio.print_infos(telescope, field_name, filter_band, obj_id=obj_id)\n",
    "    except:\n",
    "        print(\"No data available\")\n",
    "\n",
    "if 'Infos' in show_w.value:\n",
    "    show_infos()\n",
    "else:\n",
    "    clear_output()\n",
    "\n"
   ]
  },
  {
   "cell_type": "markdown",
   "metadata": {
    "extensions": {
     "jupyter_dashboards": {
      "version": 1,
      "views": {
       "grid_default": {
        "col": 4,
        "height": 4,
        "hidden": false,
        "row": 32,
        "width": 4
       },
       "report_default": {}
      }
     }
    }
   },
   "source": [
    "### Plots"
   ]
  },
  {
   "cell_type": "code",
   "execution_count": null,
   "metadata": {
    "extensions": {
     "jupyter_dashboards": {
      "version": 1,
      "views": {
       "grid_default": {
        "col": 0,
        "height": 25,
        "hidden": false,
        "row": 36,
        "width": 11
       },
       "report_default": {}
      }
     }
    }
   },
   "outputs": [],
   "source": [
    "#::: run\n",
    "def show_overview():\n",
    "    clear_output()\n",
    "    try:\n",
    "        telescope = telescope_w.value\n",
    "        field_name, filter_band = field_and_filter_w.value.split('_')\n",
    "        obj_id = obj_id_w.value\n",
    "        date = date_w.value[0:10]\n",
    "        extra_keys = list( extra_plot_selection_w.value )\n",
    "        figsize = display_size_w.value\n",
    "        if date[0:3] == 'all': date = 'all'\n",
    "        if date=='all':\n",
    "            fig_overview, axes_overview = specio.plot_overview(telescope, field_name, filter_band, extra_keys=extra_keys, obj_id=obj_id, figsize=figsize)\n",
    "        else:   \n",
    "            fig_overview, axes_overview = specio.plot_overview(telescope, field_name, filter_band, extra_keys=extra_keys, obj_id=obj_id, time_date=date, figsize=figsize)\n",
    "    except:\n",
    "        print(\"No data available\")\n",
    "\n",
    "if 'Plots' in show_w.value:\n",
    "    show_overview()\n",
    "else:\n",
    "    clear_output()"
   ]
  },
  {
   "cell_type": "markdown",
   "metadata": {
    "cell_style": "split",
    "extensions": {
     "jupyter_dashboards": {
      "version": 1,
      "views": {
       "grid_default": {
        "col": 8,
        "height": 4,
        "hidden": false,
        "row": 32,
        "width": 4
       },
       "report_default": {}
      }
     }
    }
   },
   "source": [
    "### Observing table"
   ]
  },
  {
   "cell_type": "markdown",
   "metadata": {
    "cell_style": "split",
    "extensions": {
     "jupyter_dashboards": {
      "version": 1,
      "views": {
       "grid_default": {
        "col": 4,
        "height": 4,
        "hidden": false,
        "row": 61,
        "width": 4
       },
       "report_default": {}
      }
     }
    }
   },
   "source": [
    "### ACP pointing"
   ]
  },
  {
   "cell_type": "code",
   "execution_count": null,
   "metadata": {
    "cell_style": "split",
    "extensions": {
     "jupyter_dashboards": {
      "version": 1,
      "views": {
       "grid_default": {
        "col": 0,
        "height": 18,
        "hidden": false,
        "row": 61,
        "width": 4
       },
       "report_default": {}
      }
     }
    },
    "scrolled": false
   },
   "outputs": [],
   "source": [
    "#################################################################################\n",
    "#::: Observing stats table\n",
    "##################################################################################\n",
    "def show_stats():\n",
    "    clear_output()\n",
    "    try:\n",
    "        telescope = telescope_w.value\n",
    "        field_name, filter_band = field_and_filter_w.value.split('_')\n",
    "        obj_id = obj_id_w.value\n",
    "        date = date_w.value[0:10]\n",
    "        if date[0:3] == 'all': date = 'all'\n",
    "        if date=='all':\n",
    "            df = specio.load_observing_log(telescope=telescope, field_name=field_name, filter_band=filter_band)\n",
    "        else:\n",
    "            df = specio.load_observing_log(telescope=telescope, field_name=field_name, filter_band=filter_band, date=date)\n",
    "        if not df.empty:\n",
    "            display(df)\n",
    "        else:            \n",
    "            print(\"No data available\")\n",
    "    except:\n",
    "        print(\"No data available\")\n",
    "\n",
    "if 'Obs. table' in show_w.value:\n",
    "    show_stats()\n",
    "else:\n",
    "    clear_output()"
   ]
  },
  {
   "cell_type": "code",
   "execution_count": null,
   "metadata": {
    "cell_style": "split",
    "extensions": {
     "jupyter_dashboards": {
      "version": 1,
      "views": {
       "grid_default": {
        "hidden": true
       },
       "report_default": {}
      }
     }
    }
   },
   "outputs": [],
   "source": [
    "#################################################################################\n",
    "#::: ACP pointing\n",
    "#################################################################################\n",
    "\n",
    "#::: show ACP pointing plot\n",
    "def show_ACP_pointing_plot():\n",
    "    clear_output()\n",
    "    try:\n",
    "        telescope = telescope_w.value\n",
    "        field_name, filter_band = field_and_filter_w.value.split('_')\n",
    "        obj_id = obj_id_w.value\n",
    "        date = date_w.value[0:10]\n",
    "        if date[0:3] == 'all': date = 'all'\n",
    "        if date=='all':\n",
    "            specio.plot_ACP_pointing(telescope)\n",
    "        else:\n",
    "            specio.plot_ACP_pointing(telescope,time_hjd=date)\n",
    "    except:\n",
    "        pass\n",
    "\n",
    "if 'ACP pointing' in show_w.value:\n",
    "    show_ACP_pointing_plot()\n",
    "else:\n",
    "    clear_output()"
   ]
  },
  {
   "cell_type": "markdown",
   "metadata": {
    "init_cell": true
   },
   "source": [
    "Bug reports to Maximilian Günther, maxgue@mit.edu"
   ]
  }
 ],
 "metadata": {
  "celltoolbar": "Initialization Cell",
  "extensions": {
   "jupyter_dashboards": {
    "activeView": "grid_default",
    "version": 1,
    "views": {
     "grid_default": {
      "cellMargin": 10,
      "defaultCellHeight": 20,
      "maxColumns": 12,
      "name": "grid",
      "type": "grid"
     },
     "report_default": {
      "name": "report",
      "type": "report"
     }
    }
   }
  },
  "kernelspec": {
   "display_name": "Python 2",
   "language": "python",
   "name": "python2"
  },
  "language_info": {
   "codemirror_mode": {
    "name": "ipython",
    "version": 2
   },
   "file_extension": ".py",
   "mimetype": "text/x-python",
   "name": "python",
   "nbconvert_exporter": "python",
   "pygments_lexer": "ipython2",
   "version": "2.7.15"
  }
 },
 "nbformat": 4,
 "nbformat_minor": 2
}
