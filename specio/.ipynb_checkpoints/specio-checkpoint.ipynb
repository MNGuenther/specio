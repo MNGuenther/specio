{
 "cells": [
  {
   "cell_type": "markdown",
   "metadata": {
    "extensions": {
     "jupyter_dashboards": {
      "version": 1,
      "views": {
       "grid_default": {
        "col": 0,
        "height": 4,
        "hidden": false,
        "row": 0,
        "width": 4
       },
       "report_default": {}
      }
     }
    }
   },
   "source": [
    "# SPECIO"
   ]
  },
  {
   "cell_type": "code",
   "execution_count": 1,
   "metadata": {
    "extensions": {
     "jupyter_dashboards": {
      "version": 1,
      "views": {
       "grid_default": {
        "hidden": true
       },
       "report_default": {}
      }
     }
    }
   },
   "outputs": [],
   "source": [
    "%matplotlib notebook\n",
    "from IPython.display import HTML, display, clear_output\n",
    "import ipywidgets as widgets\n",
    "import specio\n",
    "import os\n",
    "from glob import glob\n",
    "import pandas as pd"
   ]
  },
  {
   "cell_type": "code",
   "execution_count": 2,
   "metadata": {
    "extensions": {
     "jupyter_dashboards": {
      "version": 1,
      "views": {
       "grid_default": {
        "col": 4,
        "height": 4,
        "hidden": false,
        "row": 0,
        "width": 4
       },
       "report_default": {}
      }
     }
    }
   },
   "outputs": [
    {
     "data": {
      "text/html": [
       "<script>\n",
       "code_show=true; \n",
       "function code_toggle() {\n",
       " if (code_show){\n",
       " $('div.input').hide();\n",
       " } else {\n",
       " $('div.input').show();\n",
       " }\n",
       " code_show = !code_show\n",
       "} \n",
       "$( document ).ready(code_toggle);\n",
       "</script>\n",
       "Show code: <a href=\"javascript:code_toggle()\">on/off</a>."
      ],
      "text/plain": [
       "<IPython.core.display.HTML object>"
      ]
     },
     "execution_count": 2,
     "metadata": {},
     "output_type": "execute_result"
    }
   ],
   "source": [
    "HTML('''<script>\n",
    "code_show=true; \n",
    "function code_toggle() {\n",
    " if (code_show){\n",
    " $('div.input').hide();\n",
    " } else {\n",
    " $('div.input').show();\n",
    " }\n",
    " code_show = !code_show\n",
    "} \n",
    "$( document ).ready(code_toggle);\n",
    "</script>\n",
    "Show code: <a href=\"javascript:code_toggle()\">on/off</a>.''')"
   ]
  },
  {
   "cell_type": "code",
   "execution_count": 3,
   "metadata": {
    "extensions": {
     "jupyter_dashboards": {
      "version": 1,
      "views": {
       "grid_default": {
        "col": 8,
        "height": 4,
        "hidden": false,
        "row": 0,
        "width": 4
       },
       "report_default": {}
      }
     }
    },
    "scrolled": true
   },
   "outputs": [
    {
     "data": {
      "text/html": [
       "<style>.widget-label { min-width: 20ex !important; }</style>"
      ],
      "text/plain": [
       "<IPython.core.display.HTML object>"
      ]
     },
     "metadata": {},
     "output_type": "display_data"
    },
    {
     "data": {
      "text/html": [
       "<style>.container { width:100% !important; }</style>"
      ],
      "text/plain": [
       "<IPython.core.display.HTML object>"
      ]
     },
     "metadata": {},
     "output_type": "display_data"
    }
   ],
   "source": [
    "display(HTML('''<style>.widget-label { min-width: 20ex !important; }</style>''')) #widget label width\n",
    "display(HTML(\"<style>.container { width:100% !important; }</style>\")) #cell width"
   ]
  },
  {
   "cell_type": "code",
   "execution_count": 4,
   "metadata": {
    "extensions": {
     "jupyter_dashboards": {
      "version": 1,
      "views": {
       "grid_default": {
        "hidden": true
       },
       "report_default": {}
      }
     }
    }
   },
   "outputs": [],
   "source": [
    "#CSS = \"\"\".output { flex-direction: row;}\"\"\"\n",
    "#HTML('<style>{}</style>'.format(CSS))"
   ]
  },
  {
   "cell_type": "code",
   "execution_count": 5,
   "metadata": {
    "extensions": {
     "jupyter_dashboards": {
      "version": 1,
      "views": {
       "grid_default": {
        "col": 0,
        "height": 28,
        "hidden": false,
        "row": 4,
        "width": 11
       },
       "report_default": {}
      }
     }
    }
   },
   "outputs": [
    {
     "ename": "NameError",
     "evalue": "name 'run' is not defined",
     "output_type": "error",
     "traceback": [
      "\u001b[0;31m---------------------------------------------------------------------------\u001b[0m",
      "\u001b[0;31mNameError\u001b[0m                                 Traceback (most recent call last)",
      "\u001b[0;32m<ipython-input-5-e085b2318aa4>\u001b[0m in \u001b[0;36m<module>\u001b[0;34m()\u001b[0m\n\u001b[1;32m     97\u001b[0m \u001b[0mbutton\u001b[0m \u001b[0;34m=\u001b[0m \u001b[0mwidgets\u001b[0m\u001b[0;34m.\u001b[0m\u001b[0mButton\u001b[0m\u001b[0;34m(\u001b[0m\u001b[0mdescription\u001b[0m\u001b[0;34m=\u001b[0m\u001b[0;34m\"Query\"\u001b[0m\u001b[0;34m)\u001b[0m\u001b[0;34m\u001b[0m\u001b[0m\n\u001b[1;32m     98\u001b[0m \u001b[0;31m#display(button)\u001b[0m\u001b[0;34m\u001b[0m\u001b[0;34m\u001b[0m\u001b[0m\n\u001b[0;32m---> 99\u001b[0;31m \u001b[0mbutton\u001b[0m\u001b[0;34m.\u001b[0m\u001b[0mon_click\u001b[0m\u001b[0;34m(\u001b[0m\u001b[0mrun\u001b[0m\u001b[0;34m)\u001b[0m\u001b[0;34m\u001b[0m\u001b[0m\n\u001b[0m\u001b[1;32m    100\u001b[0m \u001b[0mbutton\u001b[0m\u001b[0;34m.\u001b[0m\u001b[0mon_click\u001b[0m\u001b[0;34m(\u001b[0m\u001b[0mrun2\u001b[0m\u001b[0;34m)\u001b[0m\u001b[0;34m\u001b[0m\u001b[0m\n\u001b[1;32m    101\u001b[0m \u001b[0;34m\u001b[0m\u001b[0m\n",
      "\u001b[0;31mNameError\u001b[0m: name 'run' is not defined"
     ]
    }
   ],
   "source": [
    "#::: telescope drowndown widget\n",
    "telescope_w = widgets.Dropdown(\n",
    "    options=['Io','Europa','Callisto','Ganymed'],\n",
    "    value='Callisto',\n",
    "    description='Telescope'\n",
    ")\n",
    "#display(telescope_w)\n",
    "\n",
    "\n",
    "#::: read available fields and filters for this telescope\n",
    "def get_field_and_filter_w_options():\n",
    "    telescope = telescope_w.value\n",
    "    try:\n",
    "        buf = glob( os.path.join(specio.root(telescope), '*_output.fts') )\n",
    "        fields_and_filters = [ item.split('/')[-1][0:-11] for item in buf ]\n",
    "        return fields_and_filters\n",
    "    except:\n",
    "        return ['No data available']\n",
    "\n",
    "\n",
    "#::: fields and filters dropdown widget\n",
    "field_and_filter_w = widgets.Dropdown(\n",
    "    options=get_field_and_filter_w_options(),\n",
    "    description='Fields and filters'\n",
    ")\n",
    "#display(field_and_filter_w)\n",
    "field_name, filter_band = field_and_filter_w.value.split('_')\n",
    "\n",
    "\n",
    "#::: read available obj_ids for this telescope, field and filter\n",
    "def get_obj_id_w_options():\n",
    "    telescope = telescope_w.value\n",
    "    try:\n",
    "        field_name, filter_band = field_and_filter_w.value.split('_')\n",
    "        dic = specio.get(telescope, field_name, filter_band, ['OBJ_ID'], silent=True)\n",
    "        obj_ids = list(dic['OBJ_ID'])\n",
    "        return obj_ids\n",
    "    except:\n",
    "        return ['No data available']\n",
    "        \n",
    "\n",
    "#::: OBJ_IDs dropdown widget\n",
    "obj_id_w = widgets.Dropdown(\n",
    "    options=get_obj_id_w_options(),\n",
    "    description='Object ID'\n",
    ")\n",
    "#display(obj_id_w)\n",
    "obj_id = obj_id_w.value\n",
    "\n",
    "\n",
    "#::: read available obj_ids for this telescope, field and filter\n",
    "def get_date_w_options():\n",
    "    try:\n",
    "        telescope = telescope_w.value\n",
    "        field_name, filter_band = field_and_filter_w.value.split('_')\n",
    "        obj_id = obj_id_w.value\n",
    "        dic = specio.get(telescope, field_name, filter_band, ['STATS'], silent=True)\n",
    "        #print dic\n",
    "        dates = ['all'] + list(dic['STATS'][0])\n",
    "        return dates\n",
    "    except:\n",
    "        return ['No data available']\n",
    "        \n",
    "\n",
    "#::: date dropdown widget\n",
    "date_w = widgets.Dropdown(\n",
    "    options=get_date_w_options(),\n",
    "    description='Date'\n",
    ")\n",
    "#display(date_w)\n",
    "date = date_w.value\n",
    "\n",
    "\n",
    "\n",
    "#::: selection changes, update dropdown menus\n",
    "def update_dropdown_menus(b):\n",
    "    field_and_filter_w.options = get_field_and_filter_w_options()\n",
    "    obj_id_w.options = get_obj_id_w_options()\n",
    "    date_w.options = get_date_w_options()\n",
    "    \n",
    "    \n",
    "#::: selection changes, update dropdown menus\n",
    "telescope_w.observe(update_dropdown_menus)\n",
    "field_and_filter_w.observe(update_dropdown_menus)\n",
    "obj_id_w.observe(update_dropdown_menus)\n",
    "\n",
    "\n",
    "#::: print stats as html table\n",
    "def print_stats_html_table(telescope, field_name, filter_band):\n",
    "    dic = specio.get(telescope, field_name, filter_band, ['STATS'], silent=True)\n",
    "    pdic = pd.DataFrame( data={'DATE':dic['STATS'][0], 'NUM_IMAGES':dic['STATS'][1]} )\n",
    "    display(pdic)\n",
    "        \n",
    "    \n",
    "#::: run\n",
    "def run(b):\n",
    "    clear_output()\n",
    "    #display(telescope_w)\n",
    "    #display(field_and_filter_w)\n",
    "    #display(obj_id_w)\n",
    "    #display(date_w)\n",
    "    display(hbox)\n",
    "    try:\n",
    "        telescope = telescope_w.value\n",
    "        field_name, filter_band = field_and_filter_w.value.split('_')\n",
    "        obj_id = obj_id_w.value\n",
    "        date = date_w.value\n",
    "        print telescope, field_name, filter_band, obj_id, date, '\\n'\n",
    "        if date=='all':\n",
    "            fig_overview, axes_overview = specio.plot_overview(telescope, field_name, filter_band, obj_id=obj_id)\n",
    "        else:   \n",
    "            fig_overview, axes_overview = specio.plot_overview(telescope, field_name, filter_band, obj_id=obj_id, time_date=date)\n",
    "    except:\n",
    "        print(\"No data available\")\n",
    "        \n",
    "\n",
    "def run2(b):\n",
    "    try:\n",
    "        telescope = telescope_w.value\n",
    "        field_name, filter_band = field_and_filter_w.value.split('_')\n",
    "        obj_id = obj_id_w.value\n",
    "        date = date_w.value\n",
    "        print_stats_html_table(telescope, field_name, filter_band)\n",
    "    except:\n",
    "        pass\n",
    "    \n",
    "        \n",
    "#::: run button\n",
    "button = widgets.Button(description=\"Query\")\n",
    "#display(button)\n",
    "button.on_click(run)\n",
    "button.on_click(run2)\n",
    "\n",
    "\n",
    "#::: combine all widgets in an hbox\n",
    "hbox = widgets.HBox([button, telescope_w, field_and_filter_w, obj_id_w, date_w])\n",
    "\n",
    "\n",
    "#::: display all widgets\n",
    "display(hbox)"
   ]
  },
  {
   "cell_type": "code",
   "execution_count": null,
   "metadata": {},
   "outputs": [],
   "source": []
  },
  {
   "cell_type": "code",
   "execution_count": null,
   "metadata": {
    "extensions": {
     "jupyter_dashboards": {
      "version": 1,
      "views": {
       "grid_default": {
        "col": 0,
        "height": 4,
        "hidden": false,
        "row": 32,
        "width": 12
       },
       "report_default": {}
      }
     }
    }
   },
   "outputs": [],
   "source": []
  },
  {
   "cell_type": "code",
   "execution_count": null,
   "metadata": {
    "extensions": {
     "jupyter_dashboards": {
      "version": 1,
      "views": {
       "grid_default": {
        "hidden": true
       },
       "report_default": {}
      }
     }
    }
   },
   "outputs": [],
   "source": []
  }
 ],
 "metadata": {
  "extensions": {
   "jupyter_dashboards": {
    "activeView": "grid_default",
    "version": 1,
    "views": {
     "grid_default": {
      "cellMargin": 10,
      "defaultCellHeight": 20,
      "maxColumns": 12,
      "name": "grid",
      "type": "grid"
     },
     "report_default": {
      "name": "report",
      "type": "report"
     }
    }
   }
  },
  "kernelspec": {
   "display_name": "Python 2",
   "language": "python",
   "name": "python2"
  },
  "language_info": {
   "codemirror_mode": {
    "name": "ipython",
    "version": 2
   },
   "file_extension": ".py",
   "mimetype": "text/x-python",
   "name": "python",
   "nbconvert_exporter": "python",
   "pygments_lexer": "ipython2",
   "version": "2.7.15"
  },
  "widgets": {
   "state": {
    "023e9749ef3549848806dc54fdb09a3e": {
     "views": [
      {
       "cell_index": 2
      }
     ]
    },
    "0273c073257649b8b776d60617b6bc66": {
     "views": [
      {
       "cell_index": 2
      }
     ]
    },
    "02dd3168cf8541ef8e987f588c0c50f0": {
     "views": [
      {
       "cell_index": 2
      }
     ]
    },
    "0594a3f5a6b84741b632c2c571be56f6": {
     "views": [
      {
       "cell_index": 2
      }
     ]
    },
    "05abac08e87d4f14b075e5024892a1b3": {
     "views": [
      {
       "cell_index": 2
      }
     ]
    },
    "0a18e29573674d71a5208097bacec908": {
     "views": [
      {
       "cell_index": 2
      }
     ]
    },
    "11823db1f51e48189f6f07795ca7a42a": {
     "views": [
      {
       "cell_index": 2
      }
     ]
    },
    "158c0bdb349e46b2bc634146bf2670c7": {
     "views": [
      {
       "cell_index": 3
      }
     ]
    },
    "15bb1f46c23844c586e370fc954c4a57": {
     "views": [
      {
       "cell_index": 3
      }
     ]
    },
    "16be7439f44248778fb3d9367a51d760": {
     "views": [
      {
       "cell_index": 2
      }
     ]
    },
    "16f7e53b8a9443bebbd4c7402f6a1691": {
     "views": [
      {
       "cell_index": 2
      }
     ]
    },
    "22f05f1e1d424bfaab18793feaf73367": {
     "views": [
      {
       "cell_index": 3
      }
     ]
    },
    "25a9f681a04b48ff8317c658c390e97d": {
     "views": [
      {
       "cell_index": 2
      }
     ]
    },
    "2d0cab46e93a447895d6b4059815c05d": {
     "views": [
      {
       "cell_index": 2
      }
     ]
    },
    "2e4ab37c25114c9bbd93325d7227c8d3": {
     "views": [
      {
       "cell_index": 2
      }
     ]
    },
    "2e623f5482174ec5b97778489f6df7ff": {
     "views": [
      {
       "cell_index": 2
      }
     ]
    },
    "2e8286b245354b6e95db9604e8c21dc7": {
     "views": [
      {
       "cell_index": 3
      }
     ]
    },
    "32f330b5aa974137a8ea0a7f79d6ad74": {
     "views": [
      {
       "cell_index": 2
      }
     ]
    },
    "33dcbdd7c154422d8a265d1d72e43bfe": {
     "views": [
      {
       "cell_index": 2
      }
     ]
    },
    "389c8e81faad44ebae5947aefe15156d": {
     "views": [
      {
       "cell_index": 2
      }
     ]
    },
    "3aa19b0bcb00430395589b0f60f0b7a8": {
     "views": [
      {
       "cell_index": 2
      }
     ]
    },
    "3fe9bba5d6db4e808b563dbed8c56097": {
     "views": [
      {
       "cell_index": 2
      }
     ]
    },
    "423c6cd1513c4be593b15588215d2321": {
     "views": [
      {
       "cell_index": 2
      }
     ]
    },
    "4687e13db6d641bcb6fa706e5e3eeb32": {
     "views": [
      {
       "cell_index": 2
      }
     ]
    },
    "48fc33d5a47147349a6eadc1e493c2ad": {
     "views": [
      {
       "cell_index": 2
      }
     ]
    },
    "4dc7d4067c584a7384e5b57815bd199c": {
     "views": [
      {
       "cell_index": 3
      }
     ]
    },
    "52125b76179e4935ada02a6d4b38be89": {
     "views": [
      {
       "cell_index": 2
      }
     ]
    },
    "54023acb0d4b4b04af3c3857df831770": {
     "views": [
      {
       "cell_index": 2
      }
     ]
    },
    "55825b3a2eaf412694148a808b3d1301": {
     "views": [
      {
       "cell_index": 2
      }
     ]
    },
    "5f9417f984f94baaa900c8eb8e8f2864": {
     "views": [
      {
       "cell_index": 2
      }
     ]
    },
    "607e906e2d48401cac96e915bb7c6b9c": {
     "views": [
      {
       "cell_index": 2
      }
     ]
    },
    "654c52a162d8446f8eaf36ce6fb3ec55": {
     "views": [
      {
       "cell_index": 3
      }
     ]
    },
    "6633854db5f840e9afd34d177185001f": {
     "views": [
      {
       "cell_index": 2
      }
     ]
    },
    "6a30dc2c46884d6c8cb04b788e601606": {
     "views": [
      {
       "cell_index": 2
      }
     ]
    },
    "6e94248bb6644c12bc24292db4f2f07f": {
     "views": [
      {
       "cell_index": 2
      }
     ]
    },
    "71fe72059e164ab88604174a34f74f21": {
     "views": [
      {
       "cell_index": 3
      }
     ]
    },
    "7ec11747cc9e4c4b8f52568d8668a51f": {
     "views": [
      {
       "cell_index": 2
      }
     ]
    },
    "7f1f802823574006abbe80925cdcd404": {
     "views": [
      {
       "cell_index": 2
      }
     ]
    },
    "852e59721450442ebb97430fd53a8469": {
     "views": [
      {
       "cell_index": 2
      }
     ]
    },
    "886f2264ac394518b92cce53f949a5cd": {
     "views": [
      {
       "cell_index": 3
      }
     ]
    },
    "8a04169866474f1e97d416072ba45d03": {
     "views": [
      {
       "cell_index": 2
      }
     ]
    },
    "8d524ecdfae645ae9ef4f0c4e917e5aa": {
     "views": [
      {
       "cell_index": 3
      }
     ]
    },
    "94407be4fcc54d17bf69a6aa8eb47029": {
     "views": [
      {
       "cell_index": 2
      }
     ]
    },
    "9655f81b714b4fdcbc3848c652a77c57": {
     "views": [
      {
       "cell_index": 2
      }
     ]
    },
    "973c070a2f3f4e27b977bf5632a4bdaf": {
     "views": [
      {
       "cell_index": 2
      }
     ]
    },
    "9ad71a62f53c4daa862c7ee812eb0d21": {
     "views": [
      {
       "cell_index": 2
      }
     ]
    },
    "9dd389c8b8194e569dc20dfa92640376": {
     "views": [
      {
       "cell_index": 2
      }
     ]
    },
    "9e97a3b8697c4423970f5b289e547a18": {
     "views": [
      {
       "cell_index": 2
      }
     ]
    },
    "a3e3e69cd47f421fb5ea5df92005e461": {
     "views": [
      {
       "cell_index": 2
      }
     ]
    },
    "a59299eaa1c541da8f3d30cdd9dfe38c": {
     "views": [
      {
       "cell_index": 3
      }
     ]
    },
    "a7689b5bcc3a4de99279b75ddfd42a59": {
     "views": [
      {
       "cell_index": 2
      }
     ]
    },
    "a98975c4e04c4a8381586dd34175642e": {
     "views": [
      {
       "cell_index": 2
      }
     ]
    },
    "ade1df89ebf641f0a020faae6058d9d5": {
     "views": [
      {
       "cell_index": 2
      }
     ]
    },
    "b94a8ec68a11438cbd4510b56c427f81": {
     "views": [
      {
       "cell_index": 2
      }
     ]
    },
    "bed3011de1f74192be8aea41410be0c2": {
     "views": [
      {
       "cell_index": 2
      }
     ]
    },
    "bfa7b258ff0d47e0b3c1b68781702fc9": {
     "views": [
      {
       "cell_index": 2
      }
     ]
    },
    "c1c8350ac4e6441db3718474d909a148": {
     "views": [
      {
       "cell_index": 2
      }
     ]
    },
    "c214ab33a3ae4b5c8b039dad18ccb97b": {
     "views": [
      {
       "cell_index": 2
      }
     ]
    },
    "c5e076f7c2f84e58a7e3ccd6f3c783e6": {
     "views": [
      {
       "cell_index": 2
      }
     ]
    },
    "c73f052b484041d4bd5f6c423fb667ba": {
     "views": [
      {
       "cell_index": 2
      }
     ]
    },
    "c8053aba16594396a799a5ee5b35faa8": {
     "views": [
      {
       "cell_index": 2
      }
     ]
    },
    "c927127f3f774f0c82acabddb38e435b": {
     "views": [
      {
       "cell_index": 2
      }
     ]
    },
    "cd0acbbc58b34e5f9eb608bac7a783c4": {
     "views": [
      {
       "cell_index": 2
      }
     ]
    },
    "ce309508feea4ee9ab3e556496c81284": {
     "views": [
      {
       "cell_index": 2
      }
     ]
    },
    "ceeea9200eee4ea2976c5df9065c5038": {
     "views": [
      {
       "cell_index": 2
      }
     ]
    },
    "cf387b311fe646e2ae979f264b35724b": {
     "views": [
      {
       "cell_index": 2
      }
     ]
    },
    "cf95c92c707c4639a56f6ee8a4382fe5": {
     "views": [
      {
       "cell_index": 2
      }
     ]
    },
    "d0a2f79d3eba462ba5182a94f0c67072": {
     "views": [
      {
       "cell_index": 2
      }
     ]
    },
    "d1d757bd1e4b431b9f805586da57de0c": {
     "views": [
      {
       "cell_index": 2
      }
     ]
    },
    "d2d57a0d47bf40fc927a84d148dfe4ba": {
     "views": [
      {
       "cell_index": 3
      }
     ]
    },
    "d3d31e8075dc4d71987de6b078f5879a": {
     "views": [
      {
       "cell_index": 2
      }
     ]
    },
    "d6c7d7d763594b7387e3ca49e6b414c6": {
     "views": [
      {
       "cell_index": 2
      }
     ]
    },
    "d8aa4c0820df4f06bf8b0988446a2915": {
     "views": [
      {
       "cell_index": 2
      }
     ]
    },
    "da6e7d58363b4cad83fa5c2a5ed47bf4": {
     "views": [
      {
       "cell_index": 2
      }
     ]
    },
    "dd12e6f528d54e048a5d38b8a5ec0cd3": {
     "views": [
      {
       "cell_index": 2
      }
     ]
    },
    "de7d6d5dc65a4adebb8d3982bbd8637d": {
     "views": [
      {
       "cell_index": 3
      }
     ]
    },
    "e4e99e1d7e854e6fb21910916dd254cb": {
     "views": [
      {
       "cell_index": 2
      }
     ]
    },
    "e5f6323398e44079a7d4414e1bfdbbfd": {
     "views": [
      {
       "cell_index": 2
      }
     ]
    },
    "e7047d9eb5ec4302a70d0bbb8b74c85f": {
     "views": [
      {
       "cell_index": 2
      }
     ]
    },
    "e90fb8b9ae494dd6b4a2cc8d93e1410c": {
     "views": [
      {
       "cell_index": 2
      }
     ]
    },
    "e92720ee804b44e08ce4b52fa26c7139": {
     "views": [
      {
       "cell_index": 2
      }
     ]
    },
    "e95c4eaefdb941df92226620e99b2edf": {
     "views": [
      {
       "cell_index": 2
      }
     ]
    },
    "eacebe00ef594f85a30f8d98a617f519": {
     "views": [
      {
       "cell_index": 2
      }
     ]
    },
    "ef952f5fe6ba4be4ab5d8a8407520992": {
     "views": [
      {
       "cell_index": 2
      }
     ]
    },
    "f0515ec719df4c5faa511e06e55dc3b3": {
     "views": [
      {
       "cell_index": 2
      }
     ]
    },
    "f11ad7f015c44bf19ef381099ffb2fa4": {
     "views": [
      {
       "cell_index": 2
      }
     ]
    },
    "f673a1c411f941d09f5ed64f0054e596": {
     "views": [
      {
       "cell_index": 2
      }
     ]
    },
    "fbee22131be8407c9b6073cb149c1194": {
     "views": [
      {
       "cell_index": 2
      }
     ]
    },
    "fcb4632de96c433e8cd7f040a360d061": {
     "views": [
      {
       "cell_index": 2
      }
     ]
    }
   },
   "version": "1.2.0"
  }
 },
 "nbformat": 4,
 "nbformat_minor": 2
}
