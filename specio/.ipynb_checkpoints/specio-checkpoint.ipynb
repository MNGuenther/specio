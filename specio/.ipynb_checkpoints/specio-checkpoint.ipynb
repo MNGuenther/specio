{
 "cells": [
  {
   "cell_type": "markdown",
   "metadata": {
    "extensions": {
     "jupyter_dashboards": {
      "version": 1,
      "views": {
       "grid_default": {
        "col": 0,
        "height": 4,
        "hidden": false,
        "row": 0,
        "width": 4
       },
       "report_default": {}
      }
     }
    }
   },
   "source": [
    "# SPECIO"
   ]
  },
  {
   "cell_type": "code",
   "execution_count": 1,
   "metadata": {
    "extensions": {
     "jupyter_dashboards": {
      "version": 1,
      "views": {
       "grid_default": {
        "col": 4,
        "height": 4,
        "hidden": false,
        "row": 0,
        "width": 4
       },
       "report_default": {}
      }
     }
    }
   },
   "outputs": [
    {
     "data": {
      "text/html": [
       "<button id=\"do_run_all\">Start</button>\n",
       "<script>\n",
       "$(\"#do_run_all\").click(\n",
       "    function () {\n",
       "        $(\"#run_all_cells\").click();\n",
       "    }\n",
       ");\n",
       "</script>"
      ],
      "text/plain": [
       "<IPython.core.display.HTML object>"
      ]
     },
     "metadata": {},
     "output_type": "display_data"
    }
   ],
   "source": [
    "%%HTML\n",
    "<button id=\"do_run_all\">Start</button>\n",
    "<script>\n",
    "$(\"#do_run_all\").click(\n",
    "    function () {\n",
    "        $(\"#run_all_cells\").click();\n",
    "    }\n",
    ");\n",
    "</script>"
   ]
  },
  {
   "cell_type": "code",
   "execution_count": 2,
   "metadata": {
    "extensions": {
     "jupyter_dashboards": {
      "version": 1,
      "views": {
       "grid_default": {
        "col": 0,
        "height": 4,
        "hidden": false,
        "row": 32,
        "width": 4
       },
       "report_default": {}
      }
     }
    }
   },
   "outputs": [
    {
     "data": {
      "text/html": [
       "<script>\n",
       "  function code_toggle() {\n",
       "    if (code_shown){\n",
       "      $('div.input').hide('500');\n",
       "      $('#toggleButton').val('Show Code')\n",
       "    } else {\n",
       "      $('div.input').show('500');\n",
       "      $('#toggleButton').val('Hide Code')\n",
       "    }\n",
       "    code_shown = !code_shown\n",
       "  }\n",
       "\n",
       "  $( document ).ready(function(){\n",
       "    code_shown=false;\n",
       "    $('div.input').hide()\n",
       "  });\n",
       "</script>\n",
       "<form action=\"javascript:code_toggle()\"><input type=\"submit\" id=\"toggleButton\" value=\"Show Code\"></form>"
      ],
      "text/plain": [
       "<IPython.core.display.HTML object>"
      ]
     },
     "metadata": {},
     "output_type": "display_data"
    }
   ],
   "source": [
    "%%HTML\n",
    "<script>\n",
    "  function code_toggle() {\n",
    "    if (code_shown){\n",
    "      $('div.input').hide('500');\n",
    "      $('#toggleButton').val('Show Code')\n",
    "    } else {\n",
    "      $('div.input').show('500');\n",
    "      $('#toggleButton').val('Hide Code')\n",
    "    }\n",
    "    code_shown = !code_shown\n",
    "  }\n",
    "\n",
    "  $( document ).ready(function(){\n",
    "    code_shown=false;\n",
    "    $('div.input').hide()\n",
    "  });\n",
    "</script>\n",
    "<form action=\"javascript:code_toggle()\"><input type=\"submit\" id=\"toggleButton\" value=\"Show Code\"></form>"
   ]
  },
  {
   "cell_type": "code",
   "execution_count": 3,
   "metadata": {},
   "outputs": [
    {
     "data": {
      "text/html": [
       "<style>.widget-label { min-width: 20ex !important; }</style>"
      ],
      "text/plain": [
       "<IPython.core.display.HTML object>"
      ]
     },
     "metadata": {},
     "output_type": "display_data"
    },
    {
     "data": {
      "text/html": [
       "<style>.container { width:90% !important; }</style>"
      ],
      "text/plain": [
       "<IPython.core.display.HTML object>"
      ]
     },
     "metadata": {},
     "output_type": "display_data"
    }
   ],
   "source": [
    "%matplotlib notebook\n",
    "from IPython.display import HTML, display, clear_output, Javascript\n",
    "import ipywidgets as widgets\n",
    "import specio\n",
    "import os,sys,socket\n",
    "from glob import glob\n",
    "import pandas as pd\n",
    "import numpy as np\n",
    "import re\n",
    "from jupyterthemes import jtplot\n",
    "\n",
    "jtplot.style();\n",
    "display(HTML('''<style>.widget-label { min-width: 20ex !important; }</style>''')); #widget label width\n",
    "display(HTML(\"<style>.container { width:90% !important; }</style>\")); #cell width"
   ]
  },
  {
   "cell_type": "markdown",
   "metadata": {},
   "source": [
    "## By night:"
   ]
  },
  {
   "cell_type": "code",
   "execution_count": 4,
   "metadata": {},
   "outputs": [
    {
     "ename": "IOError",
     "evalue": "[Errno 2] No such file or directory: u'/Users/mx/Big_Data/BIG_DATA_SPECULOOS/Observing_log.html'",
     "output_type": "error",
     "traceback": [
      "\u001b[0;31m---------------------------------------------------------------------------\u001b[0m",
      "\u001b[0;31mIOError\u001b[0m                                   Traceback (most recent call last)",
      "\u001b[0;32m<ipython-input-4-6d2a493121c5>\u001b[0m in \u001b[0;36m<module>\u001b[0;34m()\u001b[0m\n\u001b[1;32m      7\u001b[0m     \u001b[0mfname\u001b[0m \u001b[0;34m=\u001b[0m \u001b[0;34m'/appcg/data2/SPECULOOS/Observing_log'\u001b[0m\u001b[0;34m\u001b[0m\u001b[0m\n\u001b[1;32m      8\u001b[0m \u001b[0;34m\u001b[0m\u001b[0m\n\u001b[0;32m----> 9\u001b[0;31m \u001b[0mdisplay\u001b[0m\u001b[0;34m(\u001b[0m\u001b[0mHTML\u001b[0m\u001b[0;34m(\u001b[0m\u001b[0mfilename\u001b[0m\u001b[0;34m=\u001b[0m\u001b[0mfname\u001b[0m\u001b[0;34m+\u001b[0m\u001b[0;34m'.html'\u001b[0m\u001b[0;34m)\u001b[0m\u001b[0;34m)\u001b[0m\u001b[0;34m\u001b[0m\u001b[0m\n\u001b[0m",
      "\u001b[0;32m/Applications/anaconda/envs/env_2018a/lib/python2.7/site-packages/IPython/core/display.pyc\u001b[0m in \u001b[0;36m__init__\u001b[0;34m(self, data, url, filename)\u001b[0m\n\u001b[1;32m    616\u001b[0m         \u001b[0mself\u001b[0m\u001b[0;34m.\u001b[0m\u001b[0mfilename\u001b[0m \u001b[0;34m=\u001b[0m \u001b[0mNone\u001b[0m \u001b[0;32mif\u001b[0m \u001b[0mfilename\u001b[0m \u001b[0;32mis\u001b[0m \u001b[0mNone\u001b[0m \u001b[0;32melse\u001b[0m \u001b[0municode_type\u001b[0m\u001b[0;34m(\u001b[0m\u001b[0mfilename\u001b[0m\u001b[0;34m)\u001b[0m\u001b[0;34m\u001b[0m\u001b[0m\n\u001b[1;32m    617\u001b[0m \u001b[0;34m\u001b[0m\u001b[0m\n\u001b[0;32m--> 618\u001b[0;31m         \u001b[0mself\u001b[0m\u001b[0;34m.\u001b[0m\u001b[0mreload\u001b[0m\u001b[0;34m(\u001b[0m\u001b[0;34m)\u001b[0m\u001b[0;34m\u001b[0m\u001b[0m\n\u001b[0m\u001b[1;32m    619\u001b[0m         \u001b[0mself\u001b[0m\u001b[0;34m.\u001b[0m\u001b[0m_check_data\u001b[0m\u001b[0;34m(\u001b[0m\u001b[0;34m)\u001b[0m\u001b[0;34m\u001b[0m\u001b[0m\n\u001b[1;32m    620\u001b[0m \u001b[0;34m\u001b[0m\u001b[0m\n",
      "\u001b[0;32m/Applications/anaconda/envs/env_2018a/lib/python2.7/site-packages/IPython/core/display.pyc\u001b[0m in \u001b[0;36mreload\u001b[0;34m(self)\u001b[0m\n\u001b[1;32m    634\u001b[0m         \u001b[0;34m\"\"\"Reload the raw data from file or URL.\"\"\"\u001b[0m\u001b[0;34m\u001b[0m\u001b[0m\n\u001b[1;32m    635\u001b[0m         \u001b[0;32mif\u001b[0m \u001b[0mself\u001b[0m\u001b[0;34m.\u001b[0m\u001b[0mfilename\u001b[0m \u001b[0;32mis\u001b[0m \u001b[0;32mnot\u001b[0m \u001b[0mNone\u001b[0m\u001b[0;34m:\u001b[0m\u001b[0;34m\u001b[0m\u001b[0m\n\u001b[0;32m--> 636\u001b[0;31m             \u001b[0;32mwith\u001b[0m \u001b[0mopen\u001b[0m\u001b[0;34m(\u001b[0m\u001b[0mself\u001b[0m\u001b[0;34m.\u001b[0m\u001b[0mfilename\u001b[0m\u001b[0;34m,\u001b[0m \u001b[0mself\u001b[0m\u001b[0;34m.\u001b[0m\u001b[0m_read_flags\u001b[0m\u001b[0;34m)\u001b[0m \u001b[0;32mas\u001b[0m \u001b[0mf\u001b[0m\u001b[0;34m:\u001b[0m\u001b[0;34m\u001b[0m\u001b[0m\n\u001b[0m\u001b[1;32m    637\u001b[0m                 \u001b[0mself\u001b[0m\u001b[0;34m.\u001b[0m\u001b[0mdata\u001b[0m \u001b[0;34m=\u001b[0m \u001b[0mf\u001b[0m\u001b[0;34m.\u001b[0m\u001b[0mread\u001b[0m\u001b[0;34m(\u001b[0m\u001b[0;34m)\u001b[0m\u001b[0;34m\u001b[0m\u001b[0m\n\u001b[1;32m    638\u001b[0m         \u001b[0;32melif\u001b[0m \u001b[0mself\u001b[0m\u001b[0;34m.\u001b[0m\u001b[0murl\u001b[0m \u001b[0;32mis\u001b[0m \u001b[0;32mnot\u001b[0m \u001b[0mNone\u001b[0m\u001b[0;34m:\u001b[0m\u001b[0;34m\u001b[0m\u001b[0m\n",
      "\u001b[0;31mIOError\u001b[0m: [Errno 2] No such file or directory: u'/Users/mx/Big_Data/BIG_DATA_SPECULOOS/Observing_log.html'"
     ]
    }
   ],
   "source": [
    "#::: on laptop (OS X)\n",
    "if sys.platform == \"darwin\":\n",
    "    dirname = '/Users/mx/Big_Data/BIG_DATA_SPECULOOS/Observing_log/'    \n",
    "\n",
    "#::: on Cambridge servers\n",
    "elif 'ra.phy.cam.ac.uk' in socket.gethostname():\n",
    "    dirname = '/appcg/data2/SPECULOOS/Observing_log/'  \n",
    "        \n",
    "display(HTML(filename=dirname+'Observing_log.html'))"
   ]
  },
  {
   "cell_type": "markdown",
   "metadata": {},
   "source": [
    "## By target:"
   ]
  },
  {
   "cell_type": "code",
   "execution_count": null,
   "metadata": {
    "extensions": {
     "jupyter_dashboards": {
      "version": 1,
      "views": {
       "grid_default": {
        "col": 0,
        "height": 28,
        "hidden": false,
        "row": 4,
        "width": 11
       },
       "report_default": {}
      }
     }
    },
    "scrolled": true
   },
   "outputs": [],
   "source": [
    "\n",
    "\n",
    "\n",
    "###############################################################################\n",
    "# Helper\n",
    "###############################################################################\n",
    "def sorted_nicely( l ):\n",
    "    convert = lambda text: int(text) if text.isdigit() else text\n",
    "    alphanum_key = lambda key: [convert(c) for c in re.split('([0-9]+)', key)]\n",
    "    return sorted(l, key = alphanum_key)\n",
    "\n",
    "\n",
    "###############################################################################\n",
    "# Checkboxes\n",
    "###############################################################################\n",
    "#::: show overview checkbox widget    \n",
    "show_overview_w = widgets.Checkbox(\n",
    "    value = True,\n",
    "    description='Overview plots'\n",
    ")\n",
    "\n",
    "\n",
    "#::: show stats checkbox widget    \n",
    "show_stats_w = widgets.Checkbox(\n",
    "    value = False,\n",
    "    description='Observing stats table'\n",
    ")\n",
    "\n",
    "\n",
    "#::: show ACP pointing checkbox widget    \n",
    "show_ACP_pointing_w = widgets.Checkbox(\n",
    "    value = False,\n",
    "    description='ACP pointing plot'\n",
    ")\n",
    "    \n",
    "    \n",
    "    \n",
    "    \n",
    "###############################################################################\n",
    "# Drowndowns\n",
    "###############################################################################\n",
    "#::: telescope drowndown widget\n",
    "telescope_w = widgets.Dropdown(\n",
    "    options=['Io','Europa','Callisto','Ganymed'],\n",
    "    value='Callisto',\n",
    "    description='Telescope'\n",
    ")\n",
    "\n",
    "\n",
    "#::: read available fields and filters for this telescope\n",
    "def get_field_and_filter_w_options():\n",
    "    telescope = telescope_w.value\n",
    "    try:\n",
    "        buf = glob( os.path.join(specio.root(telescope), '*_output.fts') )\n",
    "        fields_and_filters = [ item.split('/')[-1][0:-11] for item in buf ]\n",
    "        fields_and_filters = sorted_nicely(fields_and_filters)\n",
    "        return fields_and_filters\n",
    "    except:\n",
    "        return ['No data available']\n",
    "\n",
    "\n",
    "#::: fields and filters dropdown widget\n",
    "field_and_filter_w = widgets.Dropdown(\n",
    "    options=get_field_and_filter_w_options(),\n",
    "    description='Fields and filters'\n",
    ")\n",
    "\n",
    "\n",
    "#::: read available obj_ids for this telescope, field and filter\n",
    "def get_obj_id_w_options():\n",
    "    telescope = telescope_w.value\n",
    "    try:\n",
    "        field_name, filter_band = field_and_filter_w.value.split('_')\n",
    "        dic = specio.get(telescope, field_name, filter_band, ['OBJ_ID'], silent=True)\n",
    "        obj_ids = list(dic['OBJ_ID'])\n",
    "        return obj_ids\n",
    "    except:\n",
    "        return ['No data available']\n",
    "        \n",
    "\n",
    "#::: OBJ_IDs dropdown widget\n",
    "obj_id_w = widgets.Dropdown(\n",
    "    options=get_obj_id_w_options(),\n",
    "    description='Object ID'\n",
    ")\n",
    "\n",
    "\n",
    "#::: read available obj_ids for this telescope, field and filter\n",
    "def get_date_w_options():\n",
    "    try:\n",
    "        telescope = telescope_w.value\n",
    "        field_name, filter_band = field_and_filter_w.value.split('_')\n",
    "        obj_id = obj_id_w.value\n",
    "        dic = specio.get(telescope, field_name, filter_band, ['STATS'], silent=True)\n",
    "        #print dic\n",
    "        dates = ['all'] + list(dic['STATS'][0])\n",
    "        Nimages = [str(np.sum(dic['STATS'][1]))] + [ str(item) for item in dic['STATS'][1] ]\n",
    "        date_Nimages = [ item0+'    ('+item1+' img)' for item0, item1 in zip(dates, Nimages)   ]\n",
    "        return date_Nimages\n",
    "    except:\n",
    "        return ['No data available']\n",
    "        \n",
    "\n",
    "#::: date dropdown widget\n",
    "date_w = widgets.Dropdown(\n",
    "    options=get_date_w_options(),\n",
    "    description='Date'\n",
    ")\n",
    "\n",
    "\n",
    "'''\n",
    "def get_output_w_value():\n",
    "    try:\n",
    "        dic = specio.get(telescope_w.value, field_and_filter_w.value.split('_')[0], field_and_filter_w.value.split('_')[1], ['STATS'], silent=True)\n",
    "        return str(len(dic['STATS'][0])) + ' nights, ' + str(np.sum(dic['STATS'][1])) + ' images'\n",
    "    except:\n",
    "        return 'No data available'\n",
    "    \n",
    "\n",
    "#::: stats output widget\n",
    "output_w = widgets.Text(\n",
    "    value=get_output_w_value(),\n",
    "    placeholder='',\n",
    "    description='    ',\n",
    "    disabled=True\n",
    ")\n",
    "'''\n",
    "\n",
    "\n",
    "    \n",
    "###############################################################################\n",
    "# Extra plots\n",
    "###############################################################################\n",
    "#::: show stats checkbox widget    \n",
    "extra_plot_selection_w = widgets.SelectMultiple(\n",
    "    #telescope = telescope_w.value\n",
    "    #field_name, filter_band = field_and_filter_w.value.split('_')\n",
    "    #options = specio.get_available_keys(telescope, field_name, filter_band)[3:],\n",
    "    options = sorted_nicely( ['FLUXERR', 'ERROR_8', 'ERROR_9', 'ERROR_4', 'ERROR_5', 'ERROR_6', 'ERROR_7', 'ERROR_1', 'ERROR_2', 'ERROR_3',\\\n",
    "               'CCDX', 'CCDY', 'PEAK', 'JD', 'ERROR_12', 'ERROR_13', 'ERROR_10', \\\n",
    "               'FLUX', 'FLUX_6', 'FLUX_7', 'FLUX_4', 'FLUX_5', 'FLUX_2', 'FLUX_3', 'FLUX_1', 'FLUX_8', 'FLUX_9', \\\n",
    "               'SKYBKG', 'FLUX_10', 'FLUX_11', 'FLUX_12', 'FLUX_13', 'ERROR_11', 'AIRMASS', 'ALTITUDE', 'AMBTEMP', 'AZIMUTH', \\\n",
    "               'BJD-OBS', 'CCD-TEMP', 'CROWDED', 'DEC', 'DEC_MOVE', 'DEWPOINT', 'EXPOSURE', 'FILTER', 'FILTFWHM', 'FOCALLEN', \\\n",
    "               'FOCUSPOS', 'FOCUSTEM', 'FRAME_SN', 'FWHM', 'HA', 'HJD-OBS', 'HUMIDITY', 'IMAGETYP', 'JD-OBS', 'MINPIX', 'NBSIZE', \\\n",
    "               'NUMBRMS', 'OBJECT', 'PA', 'RA', 'RA_MOVE', 'RAPOS', 'RCORE', 'SEEING', 'SKY_MOVE', 'SKYLEVEL', 'SKYNOISE', 'SKYTEMP', \\\n",
    "               'STDCRMS', 'TELESCOP', 'THRESHOL', 'WCSCOMPL', 'WCSF_DEC', 'WCSF_NS', 'WCSF_RA', 'WCSF_RMS', 'WINDSPD', 'XBINNING', 'YBINNING', \\\n",
    "               'PSF_A_1', 'PSF_B_1', 'PSF_T_1', 'PSF_A_2', 'PSF_B_2', 'PSF_T_2', 'PSF_A_3', 'PSF_B_3', 'PSF_T_3', 'PSF_A_4', 'PSF_B_4', 'PSF_T_4', \\\n",
    "               'PSF_A_5', 'PSF_B_5', 'PSF_T_5', 'PSF_A_6', 'PSF_B_6', 'PSF_T_6', 'PSF_A_7', 'PSF_B_7', 'PSF_T_7', 'PSF_A_8', 'PSF_B_8', 'PSF_T_8', \\\n",
    "               'PSF_A_9', 'PSF_B_9', 'PSF_T_9', 'CD1_1', 'CD1_2', 'CD2_1', 'CD2_2', 'CRPIX1', 'CRPIX2', 'CRVAL1', 'CRVAL2', 'CTYPE1', 'CTYPE2', \\\n",
    "               'HICOUNT', 'LOCOUNT', 'TMID', 'NSOURCES'] ),\n",
    "    disabled=False,\n",
    "    description='Extra plots'\n",
    ")\n",
    "\n",
    "\n",
    "\n",
    "\n",
    "###############################################################################\n",
    "# Update\n",
    "###############################################################################\n",
    "#::: selection changes, update dropdown menus\n",
    "def update(b):\n",
    "    field_and_filter_w.options = get_field_and_filter_w_options()\n",
    "    obj_id_w.options = get_obj_id_w_options()\n",
    "    date_w.options = get_date_w_options()\n",
    "    \n",
    "    \n",
    "#::: selection changes, update dropdown menus\n",
    "show_overview_w.observe(update)\n",
    "extra_plot_selection_w.observe(update)\n",
    "show_stats_w.observe(update)\n",
    "show_ACP_pointing_w.observe(update)\n",
    "telescope_w.observe(update)\n",
    "field_and_filter_w.observe(update)\n",
    "obj_id_w.observe(update)\n",
    "date_w.observe(update)\n",
    "\n",
    "\n",
    "\n",
    "#::: combine all widgets in an hbox\n",
    "hbox1 = widgets.HBox([telescope_w, field_and_filter_w, obj_id_w, date_w])\n",
    "vbox2 = widgets.VBox([show_overview_w, show_stats_w, show_ACP_pointing_w])\n",
    "hbox3 = widgets.HBox([extra_plot_selection_w])\n",
    "\n",
    "\n",
    "#::: display all widgets\n",
    "display(hbox1)\n",
    "display(vbox2)\n",
    "display(hbox3)"
   ]
  },
  {
   "cell_type": "code",
   "execution_count": null,
   "metadata": {},
   "outputs": [],
   "source": [
    "###############################################################################\n",
    "# Run button\n",
    "###############################################################################\n",
    "#::: run all cells below the run button cell\n",
    "def run_all(b): \n",
    "    display(Javascript('IPython.notebook.execute_cells_below()'))\n",
    "\n",
    "#::: run button\n",
    "button = widgets.Button(description=\"Query\")\n",
    "button.style.button_color = 'lightsteelblue'\n",
    "hbox4 = widgets.HBox([button])\n",
    "display(hbox4)\n",
    "button.on_click(run_all)"
   ]
  },
  {
   "cell_type": "markdown",
   "metadata": {},
   "source": [
    "### Infos"
   ]
  },
  {
   "cell_type": "code",
   "execution_count": null,
   "metadata": {
    "scrolled": true
   },
   "outputs": [],
   "source": [
    "def show_infos():    \n",
    "    clear_output()\n",
    "    try:\n",
    "        telescope = telescope_w.value\n",
    "        field_name, filter_band = field_and_filter_w.value.split('_')\n",
    "        obj_id = obj_id_w.value\n",
    "        specio.print_infos(telescope, field_name, filter_band, obj_id=obj_id)\n",
    "    except:\n",
    "        print(\"No data available\")\n",
    "\n",
    "show_infos()\n"
   ]
  },
  {
   "cell_type": "markdown",
   "metadata": {
    "extensions": {
     "jupyter_dashboards": {
      "version": 1,
      "views": {
       "grid_default": {
        "col": 4,
        "height": 4,
        "hidden": false,
        "row": 32,
        "width": 4
       },
       "report_default": {}
      }
     }
    }
   },
   "source": [
    "### Overview plots"
   ]
  },
  {
   "cell_type": "code",
   "execution_count": null,
   "metadata": {
    "extensions": {
     "jupyter_dashboards": {
      "version": 1,
      "views": {
       "grid_default": {
        "col": 0,
        "height": 25,
        "hidden": false,
        "row": 36,
        "width": 11
       },
       "report_default": {}
      }
     }
    },
    "scrolled": true
   },
   "outputs": [],
   "source": [
    "#::: run\n",
    "def show_overview():\n",
    "    clear_output()\n",
    "    try:\n",
    "        telescope = telescope_w.value\n",
    "        field_name, filter_band = field_and_filter_w.value.split('_')\n",
    "        obj_id = obj_id_w.value\n",
    "        date = date_w.value[0:10]\n",
    "        extra_keys = list( extra_plot_selection_w.value )\n",
    "        if date[0:3] == 'all': date = 'all'\n",
    "        if date=='all':\n",
    "            fig_overview, axes_overview = specio.plot_overview(telescope, field_name, filter_band, extra_keys=extra_keys, obj_id=obj_id)\n",
    "        else:   \n",
    "            fig_overview, axes_overview = specio.plot_overview(telescope, field_name, filter_band, extra_keys=extra_keys, obj_id=obj_id, time_date=date)\n",
    "    except:\n",
    "        print(\"No data available\")\n",
    "\n",
    "if show_overview_w.value:\n",
    "    show_overview()\n",
    "else:\n",
    "    clear_output()"
   ]
  },
  {
   "cell_type": "markdown",
   "metadata": {
    "extensions": {
     "jupyter_dashboards": {
      "version": 1,
      "views": {
       "grid_default": {
        "col": 8,
        "height": 4,
        "hidden": false,
        "row": 32,
        "width": 4
       },
       "report_default": {}
      }
     }
    }
   },
   "source": [
    "### Observing stats table"
   ]
  },
  {
   "cell_type": "code",
   "execution_count": null,
   "metadata": {
    "extensions": {
     "jupyter_dashboards": {
      "version": 1,
      "views": {
       "grid_default": {
        "col": 0,
        "height": 18,
        "hidden": false,
        "row": 61,
        "width": 4
       },
       "report_default": {}
      }
     }
    }
   },
   "outputs": [],
   "source": [
    "#################################################################################\n",
    "#::: Observing stats table\n",
    "##################################################################################\n",
    "\n",
    "'''\n",
    "#::: info widget\n",
    "def get_stats_info_w_value():\n",
    "    try:\n",
    "        return 'Observing table for ' + telescope_w.value + ', ' + field_and_filter_w.value.split('_')[0] + ', ' + field_and_filter_w.value.split('_')[1]\n",
    "    except:\n",
    "        return 'No data available'\n",
    "    \n",
    "\n",
    "#::: info widget\n",
    "stats_info_w = widgets.Text(\n",
    "    value=get_stats_info_w_value(),\n",
    "    placeholder='',\n",
    "    description='    ',\n",
    "    disabled=True,\n",
    "    layout=widgets.Layout(width='1000px')\n",
    ")\n",
    "'''\n",
    "\n",
    "#::: print stats as html table\n",
    "def print_stats_html_table(telescope, field_name, filter_band):\n",
    "    dic = specio.get(telescope, field_name, filter_band, ['STATS'], silent=True)\n",
    "    pdic = pd.DataFrame( data={'DATE':dic['STATS'][0], 'NUM_IMAGES':dic['STATS'][1]} )\n",
    "    display(pdic)\n",
    "\n",
    "    \n",
    "#::: show stats\n",
    "def show_stats():\n",
    "    clear_output()\n",
    "    #display(stats_info_w)\n",
    "    #display(stats_info_button)\n",
    "    try:\n",
    "        telescope = telescope_w.value\n",
    "        field_name, filter_band = field_and_filter_w.value.split('_')\n",
    "        obj_id = obj_id_w.value\n",
    "        date = date_w.value[0:10]\n",
    "        if date[0:3] == 'all': date = 'all'\n",
    "        print_stats_html_table(telescope, field_name, filter_band)\n",
    "    except:\n",
    "        pass\n",
    "\n",
    "\n",
    "if show_stats_w.value:\n",
    "    show_stats()\n",
    "else:\n",
    "    clear_output()"
   ]
  },
  {
   "cell_type": "markdown",
   "metadata": {
    "extensions": {
     "jupyter_dashboards": {
      "version": 1,
      "views": {
       "grid_default": {
        "col": 4,
        "height": 4,
        "hidden": false,
        "row": 61,
        "width": 4
       },
       "report_default": {}
      }
     }
    }
   },
   "source": [
    "### ACP pointing"
   ]
  },
  {
   "cell_type": "code",
   "execution_count": null,
   "metadata": {
    "extensions": {
     "jupyter_dashboards": {
      "version": 1,
      "views": {
       "grid_default": {
        "hidden": true
       },
       "report_default": {}
      }
     }
    }
   },
   "outputs": [],
   "source": [
    "#################################################################################\n",
    "#::: ACP pointing\n",
    "#################################################################################\n",
    "\n",
    "'''\n",
    "#::: info widget\n",
    "def get_ACP_info_w_value():\n",
    "    try:\n",
    "        return 'Show ACP pointing error for ' + telescope_w.value\n",
    "    except:\n",
    "        return 'No data available'\n",
    "    \n",
    "\n",
    "#::: info widget\n",
    "ACP_info_w = widgets.Text(\n",
    "    value=get_ACP_info_w_value(),\n",
    "    placeholder='',\n",
    "    description='    ',\n",
    "    disabled=True,\n",
    "    layout=widgets.Layout(width='1000px')\n",
    ")\n",
    "'''\n",
    "\n",
    "\n",
    "#::: show ACP pointing plot\n",
    "def show_ACP_pointing_plot():\n",
    "    clear_output()\n",
    "    #display(ACP_info_w)\n",
    "    #display(ACP_info_button)\n",
    "    try:\n",
    "        telescope = telescope_w.value\n",
    "        field_name, filter_band = field_and_filter_w.value.split('_')\n",
    "        obj_id = obj_id_w.value\n",
    "        date = date_w.value[0:10]\n",
    "        if date[0:3] == 'all': date = 'all'\n",
    "        if date=='all':\n",
    "            specio.plot_ACP_pointing(telescope)\n",
    "        else:\n",
    "            specio.plot_ACP_pointing(telescope,time_hjd=date)\n",
    "    except:\n",
    "        pass\n",
    "    \n",
    "\n",
    "#::: run button\n",
    "#ACP_info_button = widgets.Button(description=\"Show\")\n",
    "#ACP_info_button.on_click(show_ACP_pointing_plot)\n",
    "\n",
    "\n",
    "#display(ACP_info_w)\n",
    "#display(ACP_info_button)\n",
    "\n",
    "if show_ACP_pointing_w.value:\n",
    "    show_ACP_pointing_plot()\n",
    "else:\n",
    "    clear_output()"
   ]
  },
  {
   "cell_type": "code",
   "execution_count": null,
   "metadata": {},
   "outputs": [],
   "source": [
    "%%javascript\n",
    "IPython.OutputArea.prototype._should_scroll = function(lines) {\n",
    "    return false;\n",
    "};"
   ]
  }
 ],
 "metadata": {
  "extensions": {
   "jupyter_dashboards": {
    "activeView": "grid_default",
    "version": 1,
    "views": {
     "grid_default": {
      "cellMargin": 10,
      "defaultCellHeight": 20,
      "maxColumns": 12,
      "name": "grid",
      "type": "grid"
     },
     "report_default": {
      "name": "report",
      "type": "report"
     }
    }
   }
  },
  "kernelspec": {
   "display_name": "Python 2",
   "language": "python",
   "name": "python2"
  },
  "language_info": {
   "codemirror_mode": {
    "name": "ipython",
    "version": 2
   },
   "file_extension": ".py",
   "mimetype": "text/x-python",
   "name": "python",
   "nbconvert_exporter": "python",
   "pygments_lexer": "ipython2",
   "version": "2.7.15"
  },
  "widgets": {
   "state": {
    "b9a5825bc5e2449aabc3ef7efb0735ae": {
     "views": [
      {
       "cell_index": 5
      }
     ]
    }
   },
   "version": "1.2.0"
  }
 },
 "nbformat": 4,
 "nbformat_minor": 2
}
